{
  "nbformat": 4,
  "nbformat_minor": 0,
  "metadata": {
    "colab": {
      "provenance": []
    },
    "kernelspec": {
      "name": "python3",
      "display_name": "Python 3"
    },
    "language_info": {
      "name": "python"
    }
  },
  "cells": [
    {
      "cell_type": "code",
      "execution_count": 1,
      "metadata": {
        "id": "CdOYLT9wi2E3"
      },
      "outputs": [],
      "source": [
        "import pandas as pd\n",
        "import numpy as np\n",
        "import tensorflow as tf\n",
        "from tensorflow import keras\n",
        "from tensorflow.keras import layers\n",
        "from PIL import Image\n",
        "from sklearn.model_selection import train_test_split\n",
        "from tensorflow.keras.preprocessing import image"
      ]
    },
    {
      "cell_type": "code",
      "source": [
        "from google.colab import drive\n",
        "drive.mount('/content/drive')"
      ],
      "metadata": {
        "colab": {
          "base_uri": "https://localhost:8080/"
        },
        "id": "sSVvcN9yrOJr",
        "outputId": "b7037175-87ed-416f-91f2-8081f53e1f1c"
      },
      "execution_count": 2,
      "outputs": [
        {
          "output_type": "stream",
          "name": "stdout",
          "text": [
            "Mounted at /content/drive\n"
          ]
        }
      ]
    },
    {
      "cell_type": "code",
      "source": [
        "!unzip '/content/drive/MyDrive/archive.zip'"
      ],
      "metadata": {
        "id": "XfmUNISpkCSH",
        "colab": {
          "base_uri": "https://localhost:8080/"
        },
        "outputId": "9da1fe29-efc4-4e0c-ac1e-9fbf326ee40c"
      },
      "execution_count": 3,
      "outputs": [
        {
          "output_type": "stream",
          "name": "stdout",
          "text": [
            "Archive:  /content/drive/MyDrive/archive.zip\n",
            "  inflating: test_data/test_data/blasti/DSC_6396.jpg  \n",
            "  inflating: test_data/test_data/blasti/DSC_6397.jpg  \n",
            "  inflating: test_data/test_data/blasti/DSC_6398.jpg  \n",
            "  inflating: test_data/test_data/blasti/DSC_6399.jpg  \n",
            "  inflating: test_data/test_data/blasti/DSC_6400.jpg  \n",
            "  inflating: test_data/test_data/blasti/DSC_6401.jpg  \n",
            "  inflating: test_data/test_data/blasti/DSC_6402.jpg  \n",
            "  inflating: test_data/test_data/blasti/DSC_6403.jpg  \n",
            "  inflating: test_data/test_data/blasti/DSC_6405.jpg  \n",
            "  inflating: test_data/test_data/blasti/DSC_6406.jpg  \n",
            "  inflating: test_data/test_data/blasti/DSC_6407.jpg  \n",
            "  inflating: test_data/test_data/blasti/DSC_6408.jpg  \n",
            "  inflating: test_data/test_data/blasti/DSC_6409.jpg  \n",
            "  inflating: test_data/test_data/blasti/DSC_6410.jpg  \n",
            "  inflating: test_data/test_data/blasti/DSC_6411.jpg  \n",
            "  inflating: test_data/test_data/bonegl/DSC_4587.jpg  \n",
            "  inflating: test_data/test_data/bonegl/DSC_4588.jpg  \n",
            "  inflating: test_data/test_data/bonegl/DSC_4589.jpg  \n",
            "  inflating: test_data/test_data/bonegl/DSC_4590.jpg  \n",
            "  inflating: test_data/test_data/bonegl/DSC_4591.jpg  \n",
            "  inflating: test_data/test_data/bonegl/DSC_4592.jpg  \n",
            "  inflating: test_data/test_data/bonegl/DSC_4593.jpg  \n",
            "  inflating: test_data/test_data/brhkyt/D72_0473.jpg  \n",
            "  inflating: test_data/test_data/brhkyt/D72_0474.jpg  \n",
            "  inflating: test_data/test_data/brhkyt/D72_0475.jpg  \n",
            "  inflating: test_data/test_data/brhkyt/D72_0477.jpg  \n",
            "  inflating: test_data/test_data/brhkyt/D72_0478.jpg  \n",
            "  inflating: test_data/test_data/brhkyt/D72_0479.jpg  \n",
            "  inflating: test_data/test_data/cbrtsh/_D32_10310.jpg  \n",
            "  inflating: test_data/test_data/cbrtsh/_D32_10311.jpg  \n",
            "  inflating: test_data/test_data/cbrtsh/_D32_10312.jpg  \n",
            "  inflating: test_data/test_data/cbrtsh/_D32_10313.jpg  \n",
            "  inflating: test_data/test_data/cbrtsh/_D32_10314.jpg  \n",
            "  inflating: test_data/test_data/cbrtsh/_D32_10317.jpg  \n",
            "  inflating: test_data/test_data/cbrtsh/_D32_10318.jpg  \n",
            "  inflating: test_data/test_data/cmnmyn/DSC_2443.jpg  \n",
            "  inflating: test_data/test_data/cmnmyn/DSC_4681.jpg  \n",
            "  inflating: test_data/test_data/cmnmyn/DSC_5137.jpg  \n",
            "  inflating: test_data/test_data/cmnmyn/DSC_7625.jpg  \n",
            "  inflating: test_data/test_data/cmnmyn/P1050277.jpg  \n",
            "  inflating: test_data/test_data/cmnmyn/_D32_12426.jpg  \n",
            "  inflating: test_data/test_data/cmnmyn/_D32_12427.jpg  \n",
            "  inflating: test_data/test_data/cmnmyn/_D32_12428.jpg  \n",
            "  inflating: test_data/test_data/gretit/11620454726_31a35c26da_o.jpg  \n",
            "  inflating: test_data/test_data/gretit/11776135285_ccf938fa2e_o.jpg  \n",
            "  inflating: test_data/test_data/gretit/11905645146_6a5d4ff9f9_o.jpg  \n",
            "  inflating: test_data/test_data/gretit/8537646712_0b282c4c6a_o.jpg  \n",
            "  inflating: test_data/test_data/gretit/D72_0693.jpg  \n",
            "  inflating: test_data/test_data/gretit/D72_0694.jpg  \n",
            "  inflating: test_data/test_data/gretit/D72_0695.jpg  \n",
            "  inflating: test_data/test_data/hilpig/DSC_6359.jpg  \n",
            "  inflating: test_data/test_data/hilpig/DSC_6362.jpg  \n",
            "  inflating: test_data/test_data/hilpig/DSC_6364.jpg  \n",
            "  inflating: test_data/test_data/hilpig/DSC_6368.jpg  \n",
            "  inflating: test_data/test_data/hilpig/DSC_6403.jpg  \n",
            "  inflating: test_data/test_data/hilpig/DSC_6404.jpg  \n",
            "  inflating: test_data/test_data/hilpig/P1000319.jpg  \n",
            "  inflating: test_data/test_data/hilpig/P1000323.jpg  \n",
            "  inflating: test_data/test_data/hilpig/P1050044.jpg  \n",
            "  inflating: test_data/test_data/hilpig/P1050045.jpg  \n",
            "  inflating: test_data/test_data/himbul/11602064885_3826df4500_o.jpg  \n",
            "  inflating: test_data/test_data/himbul/11619942574_42f23a7b05_o.jpg  \n",
            "  inflating: test_data/test_data/himbul/11620097904_33fa8ee878_o.jpg  \n",
            "  inflating: test_data/test_data/himbul/5857371972_ed4f88b275_o.jpg  \n",
            "  inflating: test_data/test_data/himbul/6154954471_eefe6e00d1_o.jpg  \n",
            "  inflating: test_data/test_data/himbul/D72_0688.jpg  \n",
            "  inflating: test_data/test_data/himbul/D72_0691.jpg  \n",
            "  inflating: test_data/test_data/himbul/DSC08357.jpg  \n",
            "  inflating: test_data/test_data/himbul/DSC_3230.jpg  \n",
            "  inflating: test_data/test_data/himbul/DSC_7439.jpg  \n",
            "  inflating: test_data/test_data/himbul/DSC_7602.jpg  \n",
            "  inflating: test_data/test_data/himbul/P1060368.jpg  \n",
            "  inflating: test_data/test_data/himbul/P1060369.jpg  \n",
            "  inflating: test_data/test_data/himbul/_D32_10242.jpg  \n",
            "  inflating: test_data/test_data/himbul/_D32_10245.jpg  \n",
            "  inflating: test_data/test_data/himbul/_D32_10251.jpg  \n",
            "  inflating: test_data/test_data/himbul/_D32_10319.jpg  \n",
            "  inflating: test_data/test_data/himbul/_D32_10320.jpg  \n",
            "  inflating: test_data/test_data/himbul/_DSC9446.jpg  \n",
            "  inflating: test_data/test_data/himgri/IMG_5384.JPG  \n",
            "  inflating: test_data/test_data/himgri/IMG_5385.JPG  \n",
            "  inflating: test_data/test_data/himgri/IMG_5386.JPG  \n",
            "  inflating: test_data/test_data/himgri/IMG_5387.JPG  \n",
            "  inflating: test_data/test_data/himgri/IMG_5459.JPG  \n",
            "  inflating: test_data/test_data/himgri/IMG_5460.JPG  \n",
            "  inflating: test_data/test_data/himgri/IMG_5487.JPG  \n",
            "  inflating: test_data/test_data/himgri/IMG_5488.JPG  \n",
            "  inflating: test_data/test_data/himgri/IMG_5489.JPG  \n",
            "  inflating: test_data/test_data/himgri/IMG_5490.JPG  \n",
            "  inflating: test_data/test_data/himgri/IMG_5491.JPG  \n",
            "  inflating: test_data/test_data/himgri/IMG_5492.JPG  \n",
            "  inflating: test_data/test_data/himgri/P1020742.jpg  \n",
            "  inflating: test_data/test_data/himgri/P1020743.jpg  \n",
            "  inflating: test_data/test_data/himgri/P1020746.jpg  \n",
            "  inflating: test_data/test_data/himgri/P1020748.jpg  \n",
            "  inflating: test_data/test_data/himgri/P1030055.jpg  \n",
            "  inflating: test_data/test_data/himgri/P1060776.jpg  \n",
            "  inflating: test_data/test_data/himgri/P1060777.jpg  \n",
            "  inflating: test_data/test_data/himgri/P1060778.jpg  \n",
            "  inflating: test_data/test_data/hsparo/100_5573.JPG  \n",
            "  inflating: test_data/test_data/hsparo/100_5585.JPG  \n",
            "  inflating: test_data/test_data/hsparo/100_5586.JPG  \n",
            "  inflating: test_data/test_data/hsparo/100_5742.JPG  \n",
            "  inflating: test_data/test_data/hsparo/12265273154_48e0fefd42_o.jpg  \n",
            "  inflating: test_data/test_data/hsparo/DSC_4521.jpg  \n",
            "  inflating: test_data/test_data/hsparo/DSC_7619.jpg  \n",
            "  inflating: test_data/test_data/hsparo/_DSC_11244.jpg  \n",
            "  inflating: test_data/test_data/hsparo/_DSC_11246.jpg  \n",
            "  inflating: test_data/test_data/indvul/DSC_1263.jpg  \n",
            "  inflating: test_data/test_data/indvul/DSC_1273.jpg  \n",
            "  inflating: test_data/test_data/indvul/DSC_1274.jpg  \n",
            "  inflating: test_data/test_data/indvul/DSC_1275.jpg  \n",
            "  inflating: test_data/test_data/indvul/DSC_1277.jpg  \n",
            "  inflating: test_data/test_data/indvul/_DSC8754.jpg  \n",
            "  inflating: test_data/test_data/indvul/_DSC9520.jpg  \n",
            "  inflating: test_data/test_data/indvul/_DSC9521.jpg  \n",
            "  inflating: test_data/test_data/indvul/_DSC9523.jpg  \n",
            "  inflating: test_data/test_data/jglowl/_D32_10584.jpg  \n",
            "  inflating: test_data/test_data/jglowl/_D32_10587.jpg  \n",
            "  inflating: test_data/test_data/jglowl/_D32_10593.jpg  \n",
            "  inflating: test_data/test_data/jglowl/_D32_13515.jpg  \n",
            "  inflating: test_data/test_data/jglowl/_D32_13516.jpg  \n",
            "  inflating: test_data/test_data/jglowl/_D32_13517.jpg  \n",
            "  inflating: test_data/test_data/lbicrw/100_4917.JPG  \n",
            "  inflating: test_data/test_data/lbicrw/IMG_5538.JPG  \n",
            "  inflating: test_data/test_data/lbicrw/IMG_5541.JPG  \n",
            "  inflating: test_data/test_data/lbicrw/IMG_5543.JPG  \n",
            "  inflating: test_data/test_data/lbicrw/IMG_5544.JPG  \n",
            "  inflating: test_data/test_data/lbicrw/P1030030.jpg  \n",
            "  inflating: test_data/test_data/mgprob/100_5811.JPG  \n",
            "  inflating: test_data/test_data/mgprob/100_5812.JPG  \n",
            "  inflating: test_data/test_data/mgprob/100_5813.JPG  \n",
            "  inflating: test_data/test_data/mgprob/DSC_3233.jpg  \n",
            "  inflating: test_data/test_data/mgprob/_DSC0085.jpg  \n",
            "  inflating: test_data/test_data/mgprob/_DSC0133.jpg  \n",
            "  inflating: test_data/test_data/mgprob/_DSC0135.jpg  \n",
            "  inflating: test_data/test_data/rebimg/100_5756.JPG  \n",
            "  inflating: test_data/test_data/rebimg/100_5757.JPG  \n",
            "  inflating: test_data/test_data/rebimg/100_5758.JPG  \n",
            "  inflating: test_data/test_data/rebimg/100_5759.JPG  \n",
            "  inflating: test_data/test_data/rebimg/100_5760.JPG  \n",
            "  inflating: test_data/test_data/rebimg/13009302395_5d88a9d62b_o.jpg  \n",
            "  inflating: test_data/test_data/rebimg/13009315305_f1cbfb6767_o.jpg  \n",
            "  inflating: test_data/test_data/rebimg/13009451823_8eb502581f_o.jpg  \n",
            "  inflating: test_data/test_data/rebimg/DSC_7148.jpg  \n",
            "  inflating: test_data/test_data/rebimg/IMG_5251.JPG  \n",
            "  inflating: test_data/test_data/rebimg/IMG_5252.JPG  \n",
            "  inflating: test_data/test_data/wcrsrt/100_4462.JPG  \n",
            "  inflating: test_data/test_data/wcrsrt/100_4463.JPG  \n",
            "  inflating: test_data/test_data/wcrsrt/100_4464.JPG  \n",
            "  inflating: test_data/test_data/wcrsrt/100_4466.JPG  \n",
            "  inflating: test_data/test_data/wcrsrt/100_4467.JPG  \n",
            "  inflating: test_data/test_data/wcrsrt/100_4468.JPG  \n",
            "  inflating: test_data/test_data/wcrsrt/100_5103.JPG  \n",
            "  inflating: test_data/test_data/wcrsrt/100_5105.JPG  \n",
            "  inflating: test_data/test_data/wcrsrt/11382677585_ef6570a041_o.jpg  \n",
            "  inflating: test_data/test_data/wcrsrt/11382746854_7ce73793b3_o.jpg  \n",
            "  inflating: train_data/train_data/blasti/DSC_6382.jpg  \n",
            "  inflating: train_data/train_data/blasti/DSC_6383.jpg  \n",
            "  inflating: train_data/train_data/blasti/DSC_6384-2.jpg  \n",
            "  inflating: train_data/train_data/blasti/DSC_6384.jpg  \n",
            "  inflating: train_data/train_data/blasti/DSC_6385.jpg  \n",
            "  inflating: train_data/train_data/blasti/DSC_6386.jpg  \n",
            "  inflating: train_data/train_data/blasti/DSC_6387.jpg  \n",
            "  inflating: train_data/train_data/blasti/DSC_6388.jpg  \n",
            "  inflating: train_data/train_data/blasti/DSC_6389.jpg  \n",
            "  inflating: train_data/train_data/blasti/DSC_6390.jpg  \n",
            "  inflating: train_data/train_data/blasti/DSC_6391.jpg  \n",
            "  inflating: train_data/train_data/blasti/DSC_6392.jpg  \n",
            "  inflating: train_data/train_data/blasti/DSC_6393.jpg  \n",
            "  inflating: train_data/train_data/blasti/DSC_6394.jpg  \n",
            "  inflating: train_data/train_data/blasti/DSC_6395.jpg  \n",
            "  inflating: train_data/train_data/bonegl/DSC_4570.jpg  \n",
            "  inflating: train_data/train_data/bonegl/DSC_4571.jpg  \n",
            "  inflating: train_data/train_data/bonegl/DSC_4583.jpg  \n",
            "  inflating: train_data/train_data/bonegl/DSC_4584.jpg  \n",
            "  inflating: train_data/train_data/bonegl/DSC_4585.jpg  \n",
            "  inflating: train_data/train_data/bonegl/DSC_4586.jpg  \n",
            "  inflating: train_data/train_data/brhkyt/D72_0400.jpg  \n",
            "  inflating: train_data/train_data/brhkyt/D72_0401.jpg  \n",
            "  inflating: train_data/train_data/brhkyt/D72_0470.jpg  \n",
            "  inflating: train_data/train_data/brhkyt/D72_0471.jpg  \n",
            "  inflating: train_data/train_data/brhkyt/D72_0472.jpg  \n",
            "  inflating: train_data/train_data/cbrtsh/100_5097.JPG  \n",
            "  inflating: train_data/train_data/cbrtsh/_D32_10303.jpg  \n",
            "  inflating: train_data/train_data/cbrtsh/_D32_10305.jpg  \n",
            "  inflating: train_data/train_data/cbrtsh/_D32_10306.jpg  \n",
            "  inflating: train_data/train_data/cbrtsh/_D32_10307.jpg  \n",
            "  inflating: train_data/train_data/cbrtsh/_D32_10308.jpg  \n",
            "  inflating: train_data/train_data/cbrtsh/_D32_10309.jpg  \n",
            "  inflating: train_data/train_data/cmnmyn/100_5763.JPG  \n",
            "  inflating: train_data/train_data/cmnmyn/5866682091_870ccc946c_o.jpg  \n",
            "  inflating: train_data/train_data/cmnmyn/6154956165_64266b8b53_o.jpg  \n",
            "  inflating: train_data/train_data/cmnmyn/DSCN5784.jpg  \n",
            "  inflating: train_data/train_data/cmnmyn/DSCN5787.jpg  \n",
            "  inflating: train_data/train_data/cmnmyn/DSCN5790.jpg  \n",
            "  inflating: train_data/train_data/cmnmyn/DSCN5791.jpg  \n",
            "  inflating: train_data/train_data/gretit/100_5042.JPG  \n",
            "  inflating: train_data/train_data/gretit/100_5043.JPG  \n",
            "  inflating: train_data/train_data/gretit/100_5044.JPG  \n",
            "  inflating: train_data/train_data/gretit/100_5045.JPG  \n",
            "  inflating: train_data/train_data/gretit/100_5046.JPG  \n",
            "  inflating: train_data/train_data/gretit/100_5047.JPG  \n",
            "  inflating: train_data/train_data/hilpig/DSC_6272.jpg  \n",
            "  inflating: train_data/train_data/hilpig/DSC_6273.jpg  \n",
            "  inflating: train_data/train_data/hilpig/DSC_6274.jpg  \n",
            "  inflating: train_data/train_data/hilpig/DSC_6275.jpg  \n",
            "  inflating: train_data/train_data/hilpig/DSC_6350.jpg  \n",
            "  inflating: train_data/train_data/hilpig/DSC_6351.jpg  \n",
            "  inflating: train_data/train_data/hilpig/DSC_6352.jpg  \n",
            "  inflating: train_data/train_data/hilpig/DSC_6353.jpg  \n",
            "  inflating: train_data/train_data/hilpig/DSC_6354.jpg  \n",
            "  inflating: train_data/train_data/hilpig/DSC_6358.jpg  \n",
            "  inflating: train_data/train_data/himbul/100_5028.JPG  \n",
            "  inflating: train_data/train_data/himbul/100_5029.JPG  \n",
            "  inflating: train_data/train_data/himbul/100_5096.JPG  \n",
            "  inflating: train_data/train_data/himbul/100_5099.JPG  \n",
            "  inflating: train_data/train_data/himbul/100_5100.JPG  \n",
            "  inflating: train_data/train_data/himbul/100_5102.JPG  \n",
            "  inflating: train_data/train_data/himbul/100_5110.JPG  \n",
            "  inflating: train_data/train_data/himbul/100_5112.JPG  \n",
            "  inflating: train_data/train_data/himbul/100_5113.JPG  \n",
            "  inflating: train_data/train_data/himbul/100_5159.JPG  \n",
            "  inflating: train_data/train_data/himbul/100_5160.JPG  \n",
            "  inflating: train_data/train_data/himbul/100_5161.JPG  \n",
            "  inflating: train_data/train_data/himbul/100_5162.JPG  \n",
            "  inflating: train_data/train_data/himbul/10774570945_9bc537c255_o.jpg  \n",
            "  inflating: train_data/train_data/himbul/11383838134_96e891a316_o.jpg  \n",
            "  inflating: train_data/train_data/himbul/11383857084_cdd7514746_o.jpg  \n",
            "  inflating: train_data/train_data/himbul/11387473723_464965720a_o.jpg  \n",
            "  inflating: train_data/train_data/himbul/9007817678_24db19fc63_o.jpg  \n",
            "  inflating: train_data/train_data/himgri/12029790563_2fe54a68aa_o.jpg  \n",
            "  inflating: train_data/train_data/himgri/12029822653_1185544e7b_o.jpg  \n",
            "  inflating: train_data/train_data/himgri/12029933015_802428e277_o.jpg  \n",
            "  inflating: train_data/train_data/himgri/12029987304_031b7a2d53_o.jpg  \n",
            "  inflating: train_data/train_data/himgri/12030165813_f5341e8ed0_o.jpg  \n",
            "  inflating: train_data/train_data/himgri/12030221124_1baaf905d1_o.jpg  \n",
            "  inflating: train_data/train_data/himgri/12030269234_1c3f5a8e8c_o.jpg  \n",
            "  inflating: train_data/train_data/himgri/12152037683_13e1556c41_o.jpg  \n",
            "  inflating: train_data/train_data/himgri/12152178844_dc29e3126f_o.jpg  \n",
            "  inflating: train_data/train_data/himgri/12152510436_23b62fed3b_o.jpg  \n",
            "  inflating: train_data/train_data/himgri/12265055185_138e3c7c70_o.jpg  \n",
            "  inflating: train_data/train_data/himgri/12265498144_d2e80faa3b_o.jpg  \n",
            "  inflating: train_data/train_data/himgri/12265561764_4814951031_o.jpg  \n",
            "  inflating: train_data/train_data/himgri/12265582724_61cb64e73a_o.jpg  \n",
            "  inflating: train_data/train_data/himgri/12265738206_2b9b25cc8a_o.jpg  \n",
            "  inflating: train_data/train_data/himgri/12265747116_d4b4fa3741_o.jpg  \n",
            "  inflating: train_data/train_data/himgri/12266053036_fcab92d8e8_o.jpg  \n",
            "  inflating: train_data/train_data/himgri/12266077576_1d7143aaf7_o.jpg  \n",
            "  inflating: train_data/train_data/himgri/12266086526_82cd337667_o.jpg  \n",
            "  inflating: train_data/train_data/himgri/IMG_5463.JPG  \n",
            "  inflating: train_data/train_data/hsparo/100_4757.JPG  \n",
            "  inflating: train_data/train_data/hsparo/100_4758.JPG  \n",
            "  inflating: train_data/train_data/hsparo/100_5039.JPG  \n",
            "  inflating: train_data/train_data/hsparo/100_5040.JPG  \n",
            "  inflating: train_data/train_data/hsparo/100_5041.JPG  \n",
            "  inflating: train_data/train_data/hsparo/100_5048.JPG  \n",
            "  inflating: train_data/train_data/hsparo/100_5049.JPG  \n",
            "  inflating: train_data/train_data/hsparo/100_5050.JPG  \n",
            "  inflating: train_data/train_data/hsparo/100_5572.JPG  \n",
            "  inflating: train_data/train_data/indvul/DSC_0502.jpg  \n",
            "  inflating: train_data/train_data/indvul/DSC_0571e.jpg  \n",
            "  inflating: train_data/train_data/indvul/DSC_0572.jpg  \n",
            "  inflating: train_data/train_data/indvul/DSC_0576e.jpg  \n",
            "  inflating: train_data/train_data/indvul/DSC_0582.jpg  \n",
            "  inflating: train_data/train_data/indvul/DSC_0583e.jpg  \n",
            "  inflating: train_data/train_data/indvul/DSC_0584.jpg  \n",
            "  inflating: train_data/train_data/indvul/DSC_0616c.jpg  \n",
            "  inflating: train_data/train_data/indvul/DSC_0617.jpg  \n",
            "  inflating: train_data/train_data/jglowl/12152151476_7a1524aabb_o.jpg  \n",
            "  inflating: train_data/train_data/jglowl/DSC01335.jpg  \n",
            "  inflating: train_data/train_data/jglowl/DSC01336.jpg  \n",
            "  inflating: train_data/train_data/jglowl/_D32_10285.jpg  \n",
            "  inflating: train_data/train_data/jglowl/_D32_10578.jpg  \n",
            "  inflating: train_data/train_data/jglowl/_D32_10583.jpg  \n",
            "  inflating: train_data/train_data/lbicrw/100_4037.JPG  \n",
            "  inflating: train_data/train_data/lbicrw/100_4912.JPG  \n",
            "  inflating: train_data/train_data/lbicrw/100_4913.JPG  \n",
            "  inflating: train_data/train_data/lbicrw/100_4914.JPG  \n",
            "  inflating: train_data/train_data/lbicrw/100_4915.JPG  \n",
            "  inflating: train_data/train_data/lbicrw/100_4916.JPG  \n",
            "  inflating: train_data/train_data/mgprob/100_5587.JPG  \n",
            "  inflating: train_data/train_data/mgprob/100_5588.JPG  \n",
            "  inflating: train_data/train_data/mgprob/100_5589.JPG  \n",
            "  inflating: train_data/train_data/mgprob/100_5590.JPG  \n",
            "  inflating: train_data/train_data/mgprob/100_5592.JPG  \n",
            "  inflating: train_data/train_data/mgprob/100_5762.JPG  \n",
            "  inflating: train_data/train_data/rebimg/100_5744.JPG  \n",
            "  inflating: train_data/train_data/rebimg/100_5745.JPG  \n",
            "  inflating: train_data/train_data/rebimg/100_5746.JPG  \n",
            "  inflating: train_data/train_data/rebimg/100_5748.JPG  \n",
            "  inflating: train_data/train_data/rebimg/100_5749.JPG  \n",
            "  inflating: train_data/train_data/rebimg/100_5750.JPG  \n",
            "  inflating: train_data/train_data/rebimg/100_5751.JPG  \n",
            "  inflating: train_data/train_data/rebimg/100_5752.JPG  \n",
            "  inflating: train_data/train_data/rebimg/100_5754.JPG  \n",
            "  inflating: train_data/train_data/rebimg/100_5755.JPG  \n",
            "  inflating: train_data/train_data/wcrsrt/100_4452.JPG  \n",
            "  inflating: train_data/train_data/wcrsrt/100_4453.JPG  \n",
            "  inflating: train_data/train_data/wcrsrt/100_4454.JPG  \n",
            "  inflating: train_data/train_data/wcrsrt/100_4455.JPG  \n",
            "  inflating: train_data/train_data/wcrsrt/100_4456.JPG  \n",
            "  inflating: train_data/train_data/wcrsrt/100_4457.JPG  \n",
            "  inflating: train_data/train_data/wcrsrt/100_4458.JPG  \n",
            "  inflating: train_data/train_data/wcrsrt/100_4459.JPG  \n",
            "  inflating: train_data/train_data/wcrsrt/100_4460.JPG  \n",
            "  inflating: train_data/train_data/wcrsrt/100_4461.JPG  \n"
          ]
        }
      ]
    },
    {
      "cell_type": "code",
      "source": [
        "from tensorflow.keras.preprocessing.image import ImageDataGenerator"
      ],
      "metadata": {
        "id": "HWfCvUeFv9ry"
      },
      "execution_count": 4,
      "outputs": []
    },
    {
      "cell_type": "code",
      "source": [
        "train_gen=ImageDataGenerator(rescale=(1./255),horizontal_flip=True,shear_range=0.2)\n",
        "test_gen=ImageDataGenerator(rescale=(1./255))"
      ],
      "metadata": {
        "id": "6GPmacRO4DpR"
      },
      "execution_count": 5,
      "outputs": []
    },
    {
      "cell_type": "code",
      "source": [
        "train=train_gen.flow_from_directory('/content/train_data/train_data',target_size=(120,120),class_mode='categorical',batch_size=8)\n",
        "test=test_gen.flow_from_directory('/content/test_data/test_data',target_size=(120,120),class_mode='categorical',batch_size=8)\n"
      ],
      "metadata": {
        "colab": {
          "base_uri": "https://localhost:8080/"
        },
        "id": "XFSFh4xO_lYE",
        "outputId": "3be945d0-4266-469d-dff5-0bd5ce76e297"
      },
      "execution_count": 6,
      "outputs": [
        {
          "output_type": "stream",
          "name": "stdout",
          "text": [
            "Found 150 images belonging to 16 classes.\n",
            "Found 157 images belonging to 16 classes.\n"
          ]
        }
      ]
    },
    {
      "cell_type": "code",
      "source": [
        "train.class_indices"
      ],
      "metadata": {
        "colab": {
          "base_uri": "https://localhost:8080/"
        },
        "id": "2g8kam_5AbOx",
        "outputId": "7fed04d5-794f-45fc-b2f2-5da07fce791e"
      },
      "execution_count": 7,
      "outputs": [
        {
          "output_type": "execute_result",
          "data": {
            "text/plain": [
              "{'blasti': 0,\n",
              " 'bonegl': 1,\n",
              " 'brhkyt': 2,\n",
              " 'cbrtsh': 3,\n",
              " 'cmnmyn': 4,\n",
              " 'gretit': 5,\n",
              " 'hilpig': 6,\n",
              " 'himbul': 7,\n",
              " 'himgri': 8,\n",
              " 'hsparo': 9,\n",
              " 'indvul': 10,\n",
              " 'jglowl': 11,\n",
              " 'lbicrw': 12,\n",
              " 'mgprob': 13,\n",
              " 'rebimg': 14,\n",
              " 'wcrsrt': 15}"
            ]
          },
          "metadata": {},
          "execution_count": 7
        }
      ]
    },
    {
      "cell_type": "code",
      "source": [
        "from tensorflow.keras.layers import Convolution2D,MaxPooling2D,Flatten,Dense\n",
        "from tensorflow.keras.models import Sequential"
      ],
      "metadata": {
        "id": "toogfTYiAeLU"
      },
      "execution_count": 8,
      "outputs": []
    },
    {
      "cell_type": "code",
      "source": [
        "model = Sequential()\n",
        "model.add(Convolution2D(20,(3,3),activation='relu',input_shape=(120, 120, 3)))\n",
        "model.add(MaxPooling2D(pool_size=(2,2)))\n",
        "model.add(Flatten())\n",
        "model.add(Dense(45,activation='relu'))\n",
        "model.add(Dense(16,activation='softmax'))"
      ],
      "metadata": {
        "id": "oZsqVaf8Ah9p"
      },
      "execution_count": 9,
      "outputs": []
    },
    {
      "cell_type": "code",
      "source": [
        "model.compile(optimizer='adam',loss='categorical_crossentropy',metrics=['accuracy'])"
      ],
      "metadata": {
        "id": "8fm5WmAdAk1N"
      },
      "execution_count": 10,
      "outputs": []
    },
    {
      "cell_type": "code",
      "source": [
        "model.fit(train,batch_size=8,validation_data=test,epochs=10)"
      ],
      "metadata": {
        "colab": {
          "base_uri": "https://localhost:8080/"
        },
        "id": "fTiGDCevApyx",
        "outputId": "35abb185-5d1f-4df7-ff7d-321a8c9d79dc"
      },
      "execution_count": 11,
      "outputs": [
        {
          "output_type": "stream",
          "name": "stdout",
          "text": [
            "Epoch 1/10\n",
            "19/19 [==============================] - 136s 7s/step - loss: 4.2953 - accuracy: 0.0867 - val_loss: 2.8868 - val_accuracy: 0.0637\n",
            "Epoch 2/10\n",
            "19/19 [==============================] - 127s 7s/step - loss: 2.6433 - accuracy: 0.1467 - val_loss: 2.6602 - val_accuracy: 0.1338\n",
            "Epoch 3/10\n",
            "19/19 [==============================] - 111s 6s/step - loss: 2.4600 - accuracy: 0.2267 - val_loss: 2.6250 - val_accuracy: 0.1656\n",
            "Epoch 4/10\n",
            "19/19 [==============================] - 110s 6s/step - loss: 2.2321 - accuracy: 0.2333 - val_loss: 2.6560 - val_accuracy: 0.1401\n",
            "Epoch 5/10\n",
            "19/19 [==============================] - 109s 6s/step - loss: 2.1418 - accuracy: 0.2467 - val_loss: 2.6593 - val_accuracy: 0.1019\n",
            "Epoch 6/10\n",
            "19/19 [==============================] - 130s 7s/step - loss: 1.9847 - accuracy: 0.3533 - val_loss: 2.6775 - val_accuracy: 0.1911\n",
            "Epoch 7/10\n",
            "19/19 [==============================] - 130s 7s/step - loss: 1.9136 - accuracy: 0.3667 - val_loss: 2.6480 - val_accuracy: 0.1401\n",
            "Epoch 8/10\n",
            "19/19 [==============================] - 131s 7s/step - loss: 1.5846 - accuracy: 0.4467 - val_loss: 2.6371 - val_accuracy: 0.2293\n",
            "Epoch 9/10\n",
            "19/19 [==============================] - 112s 6s/step - loss: 1.4856 - accuracy: 0.4800 - val_loss: 2.6225 - val_accuracy: 0.1401\n",
            "Epoch 10/10\n",
            "19/19 [==============================] - 120s 7s/step - loss: 1.2707 - accuracy: 0.6067 - val_loss: 2.8027 - val_accuracy: 0.1592\n"
          ]
        },
        {
          "output_type": "execute_result",
          "data": {
            "text/plain": [
              "<keras.callbacks.History at 0x7f76481ba0b0>"
            ]
          },
          "metadata": {},
          "execution_count": 11
        }
      ]
    },
    {
      "cell_type": "code",
      "source": [
        "model.save('BirdsWeights.h5')"
      ],
      "metadata": {
        "id": "yKtZiQk3Ar-Y"
      },
      "execution_count": 12,
      "outputs": []
    },
    {
      "cell_type": "code",
      "source": [
        "import numpy as np\n",
        "from tensorflow.keras.preprocessing import image"
      ],
      "metadata": {
        "id": "8dTDtxYirIUH"
      },
      "execution_count": 13,
      "outputs": []
    },
    {
      "cell_type": "code",
      "source": [
        "img = image.load_img('/content/parrot.webp',target_size=(120,120))"
      ],
      "metadata": {
        "id": "CnWEf65brKSE"
      },
      "execution_count": 14,
      "outputs": []
    },
    {
      "cell_type": "code",
      "source": [
        "img"
      ],
      "metadata": {
        "colab": {
          "base_uri": "https://localhost:8080/",
          "height": 137
        },
        "id": "7-XNWaf-rtx5",
        "outputId": "c08102f2-9660-41a8-fe44-9c3cfc01f66e"
      },
      "execution_count": 15,
      "outputs": [
        {
          "output_type": "execute_result",
          "data": {
            "text/plain": [
              "<PIL.Image.Image image mode=RGB size=120x120 at 0x7F76406BF070>"
            ],
            "image/png": "[encoded data removed]"
          },
          "metadata": {},
          "execution_count": 15
        }
      ]
    },
    {
      "cell_type": "code",
      "source": [
        "img = image.img_to_array(img)\n",
        "img"
      ],
      "metadata": {
        "colab": {
          "base_uri": "https://localhost:8080/"
        },
        "id": "3YuksHnArun6",
        "outputId": "c1974735-71a7-4b72-93c9-cbbd9ccf0a16"
      },
      "execution_count": 16,
      "outputs": [
        {
          "output_type": "execute_result",
          "data": {
            "text/plain": [
              "array([[[ 35.,  60.,   6.],\n",
              "        [ 37.,  62.,   5.],\n",
              "        [ 38.,  64.,   0.],\n",
              "        ...,\n",
              "        [ 45.,  80.,   4.],\n",
              "        [ 45.,  79.,   6.],\n",
              "        [ 43.,  78.,   7.]],\n",
              "\n",
              "       [[ 35.,  60.,   6.],\n",
              "        [ 37.,  62.,   5.],\n",
              "        [ 38.,  64.,   3.],\n",
              "        ...,\n",
              "        [ 45.,  80.,   4.],\n",
              "        [ 45.,  79.,   6.],\n",
              "        [ 43.,  78.,   7.]],\n",
              "\n",
              "       [[ 35.,  60.,   6.],\n",
              "        [ 37.,  62.,   5.],\n",
              "        [ 38.,  63.,   5.],\n",
              "        ...,\n",
              "        [ 45.,  80.,   4.],\n",
              "        [ 45.,  79.,   6.],\n",
              "        [ 43.,  78.,   7.]],\n",
              "\n",
              "       ...,\n",
              "\n",
              "       [[ 28.,  46.,   6.],\n",
              "        [ 29.,  50.,   6.],\n",
              "        [ 28.,  54.,   4.],\n",
              "        ...,\n",
              "        [ 77., 107.,  33.],\n",
              "        [ 77., 107.,  33.],\n",
              "        [ 77., 107.,  33.]],\n",
              "\n",
              "       [[ 30.,  48.,   8.],\n",
              "        [ 31.,  52.,   8.],\n",
              "        [ 30.,  57.,   7.],\n",
              "        ...,\n",
              "        [ 76., 106.,  34.],\n",
              "        [ 75., 105.,  31.],\n",
              "        [ 74., 107.,  32.]],\n",
              "\n",
              "       [[ 29.,  50.,   6.],\n",
              "        [ 30.,  53.,   6.],\n",
              "        [ 29.,  58.,   5.],\n",
              "        ...,\n",
              "        [ 75., 104.,  33.],\n",
              "        [ 73., 105.,  33.],\n",
              "        [ 73., 107.,  34.]]], dtype=float32)"
            ]
          },
          "metadata": {},
          "execution_count": 16
        }
      ]
    },
    {
      "cell_type": "code",
      "source": [
        "img = np.expand_dims(img,axis=0)\n",
        "img\n",
        "     "
      ],
      "metadata": {
        "colab": {
          "base_uri": "https://localhost:8080/"
        },
        "id": "FCl6B_Eyrxfb",
        "outputId": "d0eb629f-96a4-4e85-e0cd-16b0c0c21516"
      },
      "execution_count": 17,
      "outputs": [
        {
          "output_type": "execute_result",
          "data": {
            "text/plain": [
              "array([[[[ 35.,  60.,   6.],\n",
              "         [ 37.,  62.,   5.],\n",
              "         [ 38.,  64.,   0.],\n",
              "         ...,\n",
              "         [ 45.,  80.,   4.],\n",
              "         [ 45.,  79.,   6.],\n",
              "         [ 43.,  78.,   7.]],\n",
              "\n",
              "        [[ 35.,  60.,   6.],\n",
              "         [ 37.,  62.,   5.],\n",
              "         [ 38.,  64.,   3.],\n",
              "         ...,\n",
              "         [ 45.,  80.,   4.],\n",
              "         [ 45.,  79.,   6.],\n",
              "         [ 43.,  78.,   7.]],\n",
              "\n",
              "        [[ 35.,  60.,   6.],\n",
              "         [ 37.,  62.,   5.],\n",
              "         [ 38.,  63.,   5.],\n",
              "         ...,\n",
              "         [ 45.,  80.,   4.],\n",
              "         [ 45.,  79.,   6.],\n",
              "         [ 43.,  78.,   7.]],\n",
              "\n",
              "        ...,\n",
              "\n",
              "        [[ 28.,  46.,   6.],\n",
              "         [ 29.,  50.,   6.],\n",
              "         [ 28.,  54.,   4.],\n",
              "         ...,\n",
              "         [ 77., 107.,  33.],\n",
              "         [ 77., 107.,  33.],\n",
              "         [ 77., 107.,  33.]],\n",
              "\n",
              "        [[ 30.,  48.,   8.],\n",
              "         [ 31.,  52.,   8.],\n",
              "         [ 30.,  57.,   7.],\n",
              "         ...,\n",
              "         [ 76., 106.,  34.],\n",
              "         [ 75., 105.,  31.],\n",
              "         [ 74., 107.,  32.]],\n",
              "\n",
              "        [[ 29.,  50.,   6.],\n",
              "         [ 30.,  53.,   6.],\n",
              "         [ 29.,  58.,   5.],\n",
              "         ...,\n",
              "         [ 75., 104.,  33.],\n",
              "         [ 73., 105.,  33.],\n",
              "         [ 73., 107.,  34.]]]], dtype=float32)"
            ]
          },
          "metadata": {},
          "execution_count": 17
        }
      ]
    },
    {
      "cell_type": "code",
      "source": [
        "np.argmax(model.predict(img))"
      ],
      "metadata": {
        "colab": {
          "base_uri": "https://localhost:8080/"
        },
        "id": "p82h-jK-r0TX",
        "outputId": "326fa814-ff89-493e-c20a-0d9cda7f9afe"
      },
      "execution_count": 18,
      "outputs": [
        {
          "output_type": "stream",
          "name": "stdout",
          "text": [
            "1/1 [==============================] - 0s 120ms/step\n"
          ]
        },
        {
          "output_type": "execute_result",
          "data": {
            "text/plain": [
              "15"
            ]
          },
          "metadata": {},
          "execution_count": 18
        }
      ]
    },
    {
      "cell_type": "code",
      "source": [
        "import numpy as np\n",
        "from tensorflow.keras.preprocessing import image"
      ],
      "metadata": {
        "id": "ExT27uB2r25R"
      },
      "execution_count": 19,
      "outputs": []
    },
    {
      "cell_type": "code",
      "source": [
        "img1 = image.load_img('/content/parrot.webp',target_size=(120,120))\n",
        "img1 = image.img_to_array(img1)\n",
        "img1 = np.expand_dims(img1,axis=0)\n",
        "pred = np.argmax(model.predict(img1))\n",
        "print(pred)\n",
        "output = ['blasti','bonegl','brhkyt','cbrtsh','cmnmyn', 'gretit','hilpig','himbul','himgri','hsparo', 'indvul', 'jglowl','lbicrw', 'mgprob', 'rebimg','wcrsrt']\n",
        "print(output[pred])"
      ],
      "metadata": {
        "colab": {
          "base_uri": "https://localhost:8080/"
        },
        "id": "0QI7kykQr_q6",
        "outputId": "d1aa9a4d-3169-47c2-c609-53ce1a3b4e1e"
      },
      "execution_count": 20,
      "outputs": [
        {
          "output_type": "stream",
          "name": "stdout",
          "text": [
            "1/1 [==============================] - 0s 44ms/step\n",
            "15\n",
            "wcrsrt\n"
          ]
        }
      ]
    },
    {
      "cell_type": "code",
      "source": [
        "img1 = image.load_img('/content/owl.jpg',target_size=(120,120))\n",
        "img1 = image.img_to_array(img1)\n",
        "img1 = np.expand_dims(img1,axis=0)\n",
        "pred = np.argmax(model.predict(img1))\n",
        "print(pred)\n",
        "output = ['blasti','bonegl','brhkyt','cbrtsh','cmnmyn', 'gretit','hilpig','himbul','himgri','hsparo', 'indvul', 'jglowl','lbicrw', 'mgprob', 'rebimg','wcrsrt']\n",
        "print(output[pred])"
      ],
      "metadata": {
        "colab": {
          "base_uri": "https://localhost:8080/"
        },
        "id": "jr-9nPgIt8af",
        "outputId": "662e7c70-594a-465a-970e-38f3368863a1"
      },
      "execution_count": 21,
      "outputs": [
        {
          "output_type": "stream",
          "name": "stdout",
          "text": [
            "1/1 [==============================] - 0s 30ms/step\n",
            "7\n",
            "himbul\n"
          ]
        }
      ]
    },
    {
      "cell_type": "code",
      "source": [
        "model = Sequential()\n",
        "model.add(Convolution2D(12,(3,3),activation='relu',input_shape=(120, 120, 3)))\n",
        "model.add(MaxPooling2D(pool_size=(2,2)))\n",
        "model.add(Convolution2D(24,(3,3),activation='relu'))\n",
        "model.add(MaxPooling2D(pool_size=(2,2)))\n",
        "model.add(Convolution2D(36,(3,3),activation='relu'))\n",
        "model.add(MaxPooling2D(pool_size=(2,2)))\n",
        "model.add(Flatten())\n",
        "model.add(Dense(62,activation='relu'))\n",
        "model.add(Dense(32,activation='relu'))\n",
        "model.add(Dense(16,activation='relu'))\n",
        "model.add(Dense(4,activation='softmax'))"
      ],
      "metadata": {
        "id": "qA9UKgP-uNtM"
      },
      "execution_count": 22,
      "outputs": []
    },
    {
      "cell_type": "code",
      "source": [
        "model.summary()"
      ],
      "metadata": {
        "colab": {
          "base_uri": "https://localhost:8080/"
        },
        "id": "iAh1xwMFuSXY",
        "outputId": "0eaa4330-ae10-4fc4-fcf1-eb30b4bd49d8"
      },
      "execution_count": 23,
      "outputs": [
        {
          "output_type": "stream",
          "name": "stdout",
          "text": [
            "Model: \"sequential_1\"\n",
            "_________________________________________________________________\n",
            " Layer (type)                Output Shape              Param #   \n",
            "=================================================================\n",
            " conv2d_1 (Conv2D)           (None, 118, 118, 12)      336       \n",
            "                                                                 \n",
            " max_pooling2d_1 (MaxPooling  (None, 59, 59, 12)       0         \n",
            " 2D)                                                             \n",
            "                                                                 \n",
            " conv2d_2 (Conv2D)           (None, 57, 57, 24)        2616      \n",
            "                                                                 \n",
            " max_pooling2d_2 (MaxPooling  (None, 28, 28, 24)       0         \n",
            " 2D)                                                             \n",
            "                                                                 \n",
            " conv2d_3 (Conv2D)           (None, 26, 26, 36)        7812      \n",
            "                                                                 \n",
            " max_pooling2d_3 (MaxPooling  (None, 13, 13, 36)       0         \n",
            " 2D)                                                             \n",
            "                                                                 \n",
            " flatten_1 (Flatten)         (None, 6084)              0         \n",
            "                                                                 \n",
            " dense_2 (Dense)             (None, 62)                377270    \n",
            "                                                                 \n",
            " dense_3 (Dense)             (None, 32)                2016      \n",
            "                                                                 \n",
            " dense_4 (Dense)             (None, 16)                528       \n",
            "                                                                 \n",
            " dense_5 (Dense)             (None, 4)                 68        \n",
            "                                                                 \n",
            "=================================================================\n",
            "Total params: 390,646\n",
            "Trainable params: 390,646\n",
            "Non-trainable params: 0\n",
            "_________________________________________________________________\n"
          ]
        }
      ]
    },
    {
      "cell_type": "code",
      "source": [
        "model.compile(optimizer='adam',loss='categorical_crossentropy',metrics=['accuracy'])"
      ],
      "metadata": {
        "id": "PArml2eIuU_b"
      },
      "execution_count": 24,
      "outputs": []
    },
    {
      "cell_type": "code",
      "source": [
        "img1 = image.load_img('/content/pigeon.webp',target_size=(120,120))\n",
        "img1 = image.img_to_array(img1)\n",
        "img1 = np.expand_dims(img1,axis=0)\n",
        "pred = np.argmax(model.predict(img1))\n",
        "print(pred)\n",
        "output = ['blasti','bonegl','brhkyt','cbrtsh','cmnmyn', 'gretit','hilpig','himbul','himgri','hsparo', 'indvul', 'jglowl','lbicrw', 'mgprob', 'rebimg','wcrsrt']\n",
        "print(output[pred])"
      ],
      "metadata": {
        "colab": {
          "base_uri": "https://localhost:8080/"
        },
        "id": "CgIDuKDkufN6",
        "outputId": "e13fd184-ccb8-4b2a-e9ed-a3f01a076646"
      },
      "execution_count": 26,
      "outputs": [
        {
          "output_type": "stream",
          "name": "stdout",
          "text": [
            "1/1 [==============================] - 0s 158ms/step\n",
            "1\n",
            "bonegl\n"
          ]
        }
      ]
    },
    {
      "cell_type": "code",
      "source": [
        "img1 = image.load_img('/content/crow.jpeg',target_size=(120,120))\n",
        "img1 = image.img_to_array(img1)\n",
        "img1 = np.expand_dims(img1,axis=0)\n",
        "pred = np.argmax(model.predict(img1))\n",
        "print(pred)\n",
        "output = ['blasti','bonegl','brhkyt','cbrtsh','cmnmyn', 'gretit','hilpig','himbul','himgri','hsparo', 'indvul', 'jglowl','lbicrw', 'mgprob', 'rebimg','wcrsrt']\n",
        "print(output[pred])"
      ],
      "metadata": {
        "colab": {
          "base_uri": "https://localhost:8080/"
        },
        "id": "vy3tabHWu0TR",
        "outputId": "0918a2c0-f691-4295-81fe-f738aeb53dd0"
      },
      "execution_count": 27,
      "outputs": [
        {
          "output_type": "stream",
          "name": "stdout",
          "text": [
            "1/1 [==============================] - 0s 39ms/step\n",
            "1\n",
            "bonegl\n"
          ]
        }
      ]
    },
    {
      "cell_type": "code",
      "source": [
        "from tensorflow.keras.layers import BatchNormalization, Dropout\n",
        "     "
      ],
      "metadata": {
        "id": "bSf9o2eevM3P"
      },
      "execution_count": 28,
      "outputs": []
    },
    {
      "cell_type": "code",
      "source": [
        "# Initializing the seq model\n",
        "model = Sequential()\n",
        "# Adding conv layer with input\n",
        "model.add(Convolution2D(12,(3,3),activation='relu',input_shape=(120, 120, 3)))\n",
        "# Normalizing the conv layer output\n",
        "model.add(BatchNormalization())\n",
        "# Selecting the max values\n",
        "model.add(MaxPooling2D(pool_size=(2,2)))\n",
        "# Dropping the unwanted 20% of data\n",
        "model.add(Dropout(0.2))\n",
        "model.add(Convolution2D(24,(3,3),activation='relu'))\n",
        "model.add(BatchNormalization())\n",
        "model.add(MaxPooling2D(pool_size=(2,2)))\n",
        "model.add(Dropout(0.2))\n",
        "model.add(Convolution2D(36,(3,3),activation='relu'))\n",
        "model.add(BatchNormalization())\n",
        "model.add(MaxPooling2D(pool_size=(2,2)))\n",
        "model.add(Dropout(0.2))\n",
        "model.add(Flatten())\n",
        "# Hiddern layers\n",
        "model.add(Dense(62,activation='relu'))\n",
        "model.add(BatchNormalization())\n",
        "model.add(Dropout(0.1))\n",
        "model.add(Dense(32,activation='relu'))\n",
        "model.add(Dense(16,activation='relu'))\n",
        "# Output layer\n",
        "model.add(Dense(4,activation='softmax'))"
      ],
      "metadata": {
        "id": "yRfwUmnwvXnv"
      },
      "execution_count": 29,
      "outputs": []
    },
    {
      "cell_type": "code",
      "source": [
        "model.summary()"
      ],
      "metadata": {
        "colab": {
          "base_uri": "https://localhost:8080/"
        },
        "id": "bJKsPWJ9v2yE",
        "outputId": "41a8df36-24c0-4a97-b0e0-0e150215054d"
      },
      "execution_count": 30,
      "outputs": [
        {
          "output_type": "stream",
          "name": "stdout",
          "text": [
            "Model: \"sequential_2\"\n",
            "_________________________________________________________________\n",
            " Layer (type)                Output Shape              Param #   \n",
            "=================================================================\n",
            " conv2d_4 (Conv2D)           (None, 118, 118, 12)      336       \n",
            "                                                                 \n",
            " batch_normalization (BatchN  (None, 118, 118, 12)     48        \n",
            " ormalization)                                                   \n",
            "                                                                 \n",
            " max_pooling2d_4 (MaxPooling  (None, 59, 59, 12)       0         \n",
            " 2D)                                                             \n",
            "                                                                 \n",
            " dropout (Dropout)           (None, 59, 59, 12)        0         \n",
            "                                                                 \n",
            " conv2d_5 (Conv2D)           (None, 57, 57, 24)        2616      \n",
            "                                                                 \n",
            " batch_normalization_1 (Batc  (None, 57, 57, 24)       96        \n",
            " hNormalization)                                                 \n",
            "                                                                 \n",
            " max_pooling2d_5 (MaxPooling  (None, 28, 28, 24)       0         \n",
            " 2D)                                                             \n",
            "                                                                 \n",
            " dropout_1 (Dropout)         (None, 28, 28, 24)        0         \n",
            "                                                                 \n",
            " conv2d_6 (Conv2D)           (None, 26, 26, 36)        7812      \n",
            "                                                                 \n",
            " batch_normalization_2 (Batc  (None, 26, 26, 36)       144       \n",
            " hNormalization)                                                 \n",
            "                                                                 \n",
            " max_pooling2d_6 (MaxPooling  (None, 13, 13, 36)       0         \n",
            " 2D)                                                             \n",
            "                                                                 \n",
            " dropout_2 (Dropout)         (None, 13, 13, 36)        0         \n",
            "                                                                 \n",
            " flatten_2 (Flatten)         (None, 6084)              0         \n",
            "                                                                 \n",
            " dense_6 (Dense)             (None, 62)                377270    \n",
            "                                                                 \n",
            " batch_normalization_3 (Batc  (None, 62)               248       \n",
            " hNormalization)                                                 \n",
            "                                                                 \n",
            " dropout_3 (Dropout)         (None, 62)                0         \n",
            "                                                                 \n",
            " dense_7 (Dense)             (None, 32)                2016      \n",
            "                                                                 \n",
            " dense_8 (Dense)             (None, 16)                528       \n",
            "                                                                 \n",
            " dense_9 (Dense)             (None, 4)                 68        \n",
            "                                                                 \n",
            "=================================================================\n",
            "Total params: 391,182\n",
            "Trainable params: 390,914\n",
            "Non-trainable params: 268\n",
            "_________________________________________________________________\n"
          ]
        }
      ]
    },
    {
      "cell_type": "code",
      "source": [
        "model.compile(optimizer='adam',loss='categorical_crossentropy',metrics=['accuracy'])"
      ],
      "metadata": {
        "id": "h_VbLMQwv5YW"
      },
      "execution_count": 31,
      "outputs": []
    },
    {
      "cell_type": "code",
      "source": [
        "# Early stopping\n",
        "from tensorflow.keras.callbacks import EarlyStopping\n",
        "     "
      ],
      "metadata": {
        "id": "rLanad-Uv8P5"
      },
      "execution_count": 32,
      "outputs": []
    },
    {
      "cell_type": "code",
      "source": [
        "early_stop = EarlyStopping(monitor='accuracy',patience=8)"
      ],
      "metadata": {
        "id": "vWy8IGcev-Ms"
      },
      "execution_count": 33,
      "outputs": []
    },
    {
      "cell_type": "code",
      "source": [
        "\"\"\"VGG\"\"\""
      ],
      "metadata": {
        "colab": {
          "base_uri": "https://localhost:8080/",
          "height": 36
        },
        "id": "mH6whRcNwCt3",
        "outputId": "44dcf0c6-55ea-468f-f492-4a5fb53b1538"
      },
      "execution_count": 35,
      "outputs": [
        {
          "output_type": "execute_result",
          "data": {
            "text/plain": [
              "'VGG'"
            ],
            "application/vnd.google.colaboratory.intrinsic+json": {
              "type": "string"
            }
          },
          "metadata": {},
          "execution_count": 35
        }
      ]
    },
    {
      "cell_type": "code",
      "source": [
        "from tensorflow.keras.layers import Dense,Flatten,Input\n",
        "from tensorflow.keras.models import Model\n",
        "from tensorflow.keras.preprocessing import image\n",
        "from tensorflow.keras.preprocessing.image import ImageDataGenerator, load_img\n",
        "import numpy as np\n",
        "     "
      ],
      "metadata": {
        "id": "RCfTQ3sHwxa2"
      },
      "execution_count": 36,
      "outputs": []
    },
    {
      "cell_type": "code",
      "source": [
        "train_path='/content/train_data/train_data'"
      ],
      "metadata": {
        "id": "r3Cw0oycw1DZ"
      },
      "execution_count": 37,
      "outputs": []
    },
    {
      "cell_type": "code",
      "source": [
        "test_path='/content/test_data/test_data'"
      ],
      "metadata": {
        "id": "1lXm5kS_w9no"
      },
      "execution_count": 38,
      "outputs": []
    },
    {
      "cell_type": "code",
      "source": [
        "train_gen = ImageDataGenerator(rescale=1./255,\n",
        "                               shear_range=0.2,\n",
        "                               zoom_range=0.2,\n",
        "                               horizontal_flip=True)\n",
        "\n",
        "test_gen = ImageDataGenerator(rescale=1./255) \n",
        "     "
      ],
      "metadata": {
        "id": "GOc6JSqIxBwt"
      },
      "execution_count": 39,
      "outputs": []
    },
    {
      "cell_type": "code",
      "source": [
        "train = train_gen.flow_from_directory(train_path,\n",
        "                                      target_size=(224,224),\n",
        "                                      batch_size=22,\n",
        "                                      class_mode='categorical')\n",
        "\n",
        "test = test_gen.flow_from_directory(test_path,\n",
        "                                      target_size=(224,224),\n",
        "                                      batch_size=22,\n",
        "                                      class_mode='categorical')"
      ],
      "metadata": {
        "colab": {
          "base_uri": "https://localhost:8080/"
        },
        "id": "GYFdieedxE32",
        "outputId": "5de6f5af-f4e5-4e9c-91a0-97b2e37b7276"
      },
      "execution_count": 40,
      "outputs": [
        {
          "output_type": "stream",
          "name": "stdout",
          "text": [
            "Found 150 images belonging to 16 classes.\n",
            "Found 157 images belonging to 16 classes.\n"
          ]
        }
      ]
    },
    {
      "cell_type": "code",
      "source": [
        "from tensorflow.keras.applications.vgg16 import VGG16, preprocess_input\n",
        "     "
      ],
      "metadata": {
        "id": "52xPQ171xUZh"
      },
      "execution_count": 41,
      "outputs": []
    },
    {
      "cell_type": "code",
      "source": [
        "vgg = VGG16(include_top=False,weights='imagenet',input_shape=(224,224,3))"
      ],
      "metadata": {
        "colab": {
          "base_uri": "https://localhost:8080/"
        },
        "id": "YE6a-CaFxX-k",
        "outputId": "1b4a70dd-3ed4-4adc-fbee-b20ab87302d2"
      },
      "execution_count": 42,
      "outputs": [
        {
          "output_type": "stream",
          "name": "stdout",
          "text": [
            "Downloading data from https://storage.googleapis.com/tensorflow/keras-applications/vgg16/vgg16_weights_tf_dim_ordering_tf_kernels_notop.h5\n",
            "58889256/58889256 [==============================] - 0s 0us/step\n"
          ]
        }
      ]
    },
    {
      "cell_type": "code",
      "source": [
        "for layer in vgg.layers:\n",
        "  print(layer)"
      ],
      "metadata": {
        "colab": {
          "base_uri": "https://localhost:8080/"
        },
        "id": "eBwCCvUjxcue",
        "outputId": "29d9adb9-72e2-47a8-ce02-5eed59847df7"
      },
      "execution_count": 43,
      "outputs": [
        {
          "output_type": "stream",
          "name": "stdout",
          "text": [
            "<keras.engine.input_layer.InputLayer object at 0x7f76305bf670>\n",
            "<keras.layers.convolutional.conv2d.Conv2D object at 0x7f76381ee170>\n",
            "<keras.layers.convolutional.conv2d.Conv2D object at 0x7f76305bffd0>\n",
            "<keras.layers.pooling.max_pooling2d.MaxPooling2D object at 0x7f76304302e0>\n",
            "<keras.layers.convolutional.conv2d.Conv2D object at 0x7f76410f6860>\n",
            "<keras.layers.convolutional.conv2d.Conv2D object at 0x7f7630431570>\n",
            "<keras.layers.pooling.max_pooling2d.MaxPooling2D object at 0x7f76304330d0>\n",
            "<keras.layers.convolutional.conv2d.Conv2D object at 0x7f7630430430>\n",
            "<keras.layers.convolutional.conv2d.Conv2D object at 0x7f7630433fd0>\n",
            "<keras.layers.convolutional.conv2d.Conv2D object at 0x7f7630432410>\n",
            "<keras.layers.pooling.max_pooling2d.MaxPooling2D object at 0x7f7630445cf0>\n",
            "<keras.layers.convolutional.conv2d.Conv2D object at 0x7f76304441f0>\n",
            "<keras.layers.convolutional.conv2d.Conv2D object at 0x7f7630447010>\n",
            "<keras.layers.convolutional.conv2d.Conv2D object at 0x7f76304468f0>\n",
            "<keras.layers.pooling.max_pooling2d.MaxPooling2D object at 0x7f763045c6a0>\n",
            "<keras.layers.convolutional.conv2d.Conv2D object at 0x7f76411e1930>\n",
            "<keras.layers.convolutional.conv2d.Conv2D object at 0x7f763045dd20>\n",
            "<keras.layers.convolutional.conv2d.Conv2D object at 0x7f763045e320>\n",
            "<keras.layers.pooling.max_pooling2d.MaxPooling2D object at 0x7f763045f400>\n"
          ]
        }
      ]
    },
    {
      "cell_type": "code",
      "source": [
        "for layer in vgg.layers:\n",
        "  layer.trainable=False\n",
        "     "
      ],
      "metadata": {
        "id": "YLnvtQjExh8O"
      },
      "execution_count": 44,
      "outputs": []
    },
    {
      "cell_type": "code",
      "source": [
        "x = Flatten()(vgg.output)"
      ],
      "metadata": {
        "id": "tYtUarGuxlbv"
      },
      "execution_count": 45,
      "outputs": []
    },
    {
      "cell_type": "code",
      "source": [
        "prediction = Dense(4,activation='softmax')(x)"
      ],
      "metadata": {
        "id": "O5zP6oGXxoWV"
      },
      "execution_count": 46,
      "outputs": []
    },
    {
      "cell_type": "code",
      "source": [
        "model = Model(inputs=vgg.input,outputs=prediction)"
      ],
      "metadata": {
        "id": "FO3KDMOGyMEm"
      },
      "execution_count": 47,
      "outputs": []
    },
    {
      "cell_type": "code",
      "source": [
        "model.summary()"
      ],
      "metadata": {
        "colab": {
          "base_uri": "https://localhost:8080/"
        },
        "id": "F0enBjw5yOVd",
        "outputId": "ae3caad9-176c-4275-97ba-59e4fdf88029"
      },
      "execution_count": 48,
      "outputs": [
        {
          "output_type": "stream",
          "name": "stdout",
          "text": [
            "Model: \"model\"\n",
            "_________________________________________________________________\n",
            " Layer (type)                Output Shape              Param #   \n",
            "=================================================================\n",
            " input_1 (InputLayer)        [(None, 224, 224, 3)]     0         \n",
            "                                                                 \n",
            " block1_conv1 (Conv2D)       (None, 224, 224, 64)      1792      \n",
            "                                                                 \n",
            " block1_conv2 (Conv2D)       (None, 224, 224, 64)      36928     \n",
            "                                                                 \n",
            " block1_pool (MaxPooling2D)  (None, 112, 112, 64)      0         \n",
            "                                                                 \n",
            " block2_conv1 (Conv2D)       (None, 112, 112, 128)     73856     \n",
            "                                                                 \n",
            " block2_conv2 (Conv2D)       (None, 112, 112, 128)     147584    \n",
            "                                                                 \n",
            " block2_pool (MaxPooling2D)  (None, 56, 56, 128)       0         \n",
            "                                                                 \n",
            " block3_conv1 (Conv2D)       (None, 56, 56, 256)       295168    \n",
            "                                                                 \n",
            " block3_conv2 (Conv2D)       (None, 56, 56, 256)       590080    \n",
            "                                                                 \n",
            " block3_conv3 (Conv2D)       (None, 56, 56, 256)       590080    \n",
            "                                                                 \n",
            " block3_pool (MaxPooling2D)  (None, 28, 28, 256)       0         \n",
            "                                                                 \n",
            " block4_conv1 (Conv2D)       (None, 28, 28, 512)       1180160   \n",
            "                                                                 \n",
            " block4_conv2 (Conv2D)       (None, 28, 28, 512)       2359808   \n",
            "                                                                 \n",
            " block4_conv3 (Conv2D)       (None, 28, 28, 512)       2359808   \n",
            "                                                                 \n",
            " block4_pool (MaxPooling2D)  (None, 14, 14, 512)       0         \n",
            "                                                                 \n",
            " block5_conv1 (Conv2D)       (None, 14, 14, 512)       2359808   \n",
            "                                                                 \n",
            " block5_conv2 (Conv2D)       (None, 14, 14, 512)       2359808   \n",
            "                                                                 \n",
            " block5_conv3 (Conv2D)       (None, 14, 14, 512)       2359808   \n",
            "                                                                 \n",
            " block5_pool (MaxPooling2D)  (None, 7, 7, 512)         0         \n",
            "                                                                 \n",
            " flatten_3 (Flatten)         (None, 25088)             0         \n",
            "                                                                 \n",
            " dense_10 (Dense)            (None, 4)                 100356    \n",
            "                                                                 \n",
            "=================================================================\n",
            "Total params: 14,815,044\n",
            "Trainable params: 100,356\n",
            "Non-trainable params: 14,714,688\n",
            "_________________________________________________________________\n"
          ]
        }
      ]
    },
    {
      "cell_type": "code",
      "source": [
        "model.compile(loss='categorical_crossentropy',optimizer='adam',metrics=['accuracy'])"
      ],
      "metadata": {
        "id": "qevfRwPIyQP1"
      },
      "execution_count": 49,
      "outputs": []
    },
    {
      "cell_type": "code",
      "source": [
        "from tensorflow.keras.applications.resnet50 import ResNet50"
      ],
      "metadata": {
        "id": "MldoDMqc44Rd"
      },
      "execution_count": 69,
      "outputs": []
    },
    {
      "cell_type": "code",
      "source": [
        "resnet = ResNet50(include_top=False,input_shape=(224,224,3))\n",
        "     "
      ],
      "metadata": {
        "colab": {
          "base_uri": "https://localhost:8080/"
        },
        "id": "qy1Xf18e61nY",
        "outputId": "1c1e576c-011f-47ba-979e-a40fbe384a11"
      },
      "execution_count": 70,
      "outputs": [
        {
          "output_type": "stream",
          "name": "stdout",
          "text": [
            "Downloading data from https://storage.googleapis.com/tensorflow/keras-applications/resnet/resnet50_weights_tf_dim_ordering_tf_kernels_notop.h5\n",
            "94765736/94765736 [==============================] - 1s 0us/step\n"
          ]
        }
      ]
    },
    {
      "cell_type": "code",
      "source": [
        "\n",
        "for layer in resnet.layers:\n",
        "  layer.trainable=False"
      ],
      "metadata": {
        "id": "W_pAAbcz69Ij"
      },
      "execution_count": 71,
      "outputs": []
    },
    {
      "cell_type": "code",
      "source": [
        "for layer in resnet.layers:\n",
        "  print(layer)"
      ],
      "metadata": {
        "colab": {
          "base_uri": "https://localhost:8080/"
        },
        "id": "cmyJG60B7K4X",
        "outputId": "018fbf1f-dbfb-45fc-ec1b-d1b05a269c9c"
      },
      "execution_count": 72,
      "outputs": [
        {
          "output_type": "stream",
          "name": "stdout",
          "text": [
            "<keras.engine.input_layer.InputLayer object at 0x7f7624b33e50>\n",
            "<keras.layers.reshaping.zero_padding2d.ZeroPadding2D object at 0x7f7624b22500>\n",
            "<keras.layers.convolutional.conv2d.Conv2D object at 0x7f7625f0c850>\n",
            "<keras.layers.normalization.batch_normalization.BatchNormalization object at 0x7f7624b31e40>\n",
            "<keras.layers.core.activation.Activation object at 0x7f7624b22530>\n",
            "<keras.layers.reshaping.zero_padding2d.ZeroPadding2D object at 0x7f7624b5eda0>\n",
            "<keras.layers.pooling.max_pooling2d.MaxPooling2D object at 0x7f7624b5f580>\n",
            "<keras.layers.convolutional.conv2d.Conv2D object at 0x7f7624b5eaa0>\n",
            "<keras.layers.normalization.batch_normalization.BatchNormalization object at 0x7f7624b5e8c0>\n",
            "<keras.layers.core.activation.Activation object at 0x7f7624b5fc40>\n",
            "<keras.layers.convolutional.conv2d.Conv2D object at 0x7f7624b826b0>\n",
            "<keras.layers.normalization.batch_normalization.BatchNormalization object at 0x7f7624b824a0>\n",
            "<keras.layers.core.activation.Activation object at 0x7f7624b83430>\n",
            "<keras.layers.convolutional.conv2d.Conv2D object at 0x7f764bfe51b0>\n",
            "<keras.layers.convolutional.conv2d.Conv2D object at 0x7f7624b83a30>\n",
            "<keras.layers.normalization.batch_normalization.BatchNormalization object at 0x7f7624b5e8f0>\n",
            "<keras.layers.normalization.batch_normalization.BatchNormalization object at 0x7f7624b83460>\n",
            "<keras.layers.merging.add.Add object at 0x7f7624b83f40>\n",
            "<keras.layers.core.activation.Activation object at 0x7f7624b814e0>\n",
            "<keras.layers.convolutional.conv2d.Conv2D object at 0x7f7624b98a00>\n",
            "<keras.layers.normalization.batch_normalization.BatchNormalization object at 0x7f7624b98be0>\n",
            "<keras.layers.core.activation.Activation object at 0x7f7624b9a7d0>\n",
            "<keras.layers.convolutional.conv2d.Conv2D object at 0x7f7624b9b5b0>\n",
            "<keras.layers.normalization.batch_normalization.BatchNormalization object at 0x7f7624b99b70>\n",
            "<keras.layers.core.activation.Activation object at 0x7f7624b5eec0>\n",
            "<keras.layers.convolutional.conv2d.Conv2D object at 0x7f7624b228c0>\n",
            "<keras.layers.normalization.batch_normalization.BatchNormalization object at 0x7f7624b817e0>\n",
            "<keras.layers.merging.add.Add object at 0x7f7624b32a70>\n",
            "<keras.layers.core.activation.Activation object at 0x7f7624b81180>\n",
            "<keras.layers.convolutional.conv2d.Conv2D object at 0x7f7624ba4cd0>\n",
            "<keras.layers.normalization.batch_normalization.BatchNormalization object at 0x7f7624ba6710>\n",
            "<keras.layers.core.activation.Activation object at 0x7f7624ba6a10>\n",
            "<keras.layers.convolutional.conv2d.Conv2D object at 0x7f7624ba7340>\n",
            "<keras.layers.normalization.batch_normalization.BatchNormalization object at 0x7f7624ba7f70>\n",
            "<keras.layers.core.activation.Activation object at 0x7f7624ba7eb0>\n",
            "<keras.layers.convolutional.conv2d.Conv2D object at 0x7f7624ba73a0>\n",
            "<keras.layers.normalization.batch_normalization.BatchNormalization object at 0x7f76249dcb20>\n",
            "<keras.layers.merging.add.Add object at 0x7f7624ba7850>\n",
            "<keras.layers.core.activation.Activation object at 0x7f7624ba74f0>\n",
            "<keras.layers.convolutional.conv2d.Conv2D object at 0x7f76249de950>\n",
            "<keras.layers.normalization.batch_normalization.BatchNormalization object at 0x7f76249df910>\n",
            "<keras.layers.core.activation.Activation object at 0x7f7630471c00>\n",
            "<keras.layers.convolutional.conv2d.Conv2D object at 0x7f76249fdd80>\n",
            "<keras.layers.normalization.batch_normalization.BatchNormalization object at 0x7f76249ff160>\n",
            "<keras.layers.core.activation.Activation object at 0x7f76249ff820>\n",
            "<keras.layers.convolutional.conv2d.Conv2D object at 0x7f76249de8c0>\n",
            "<keras.layers.convolutional.conv2d.Conv2D object at 0x7f76249ffd60>\n",
            "<keras.layers.normalization.batch_normalization.BatchNormalization object at 0x7f76249dff70>\n",
            "<keras.layers.normalization.batch_normalization.BatchNormalization object at 0x7f76249ff460>\n",
            "<keras.layers.merging.add.Add object at 0x7f76249ffe20>\n",
            "<keras.layers.core.activation.Activation object at 0x7f76249feef0>\n",
            "<keras.layers.convolutional.conv2d.Conv2D object at 0x7f7624a1dcc0>\n",
            "<keras.layers.normalization.batch_normalization.BatchNormalization object at 0x7f7624a1f1c0>\n",
            "<keras.layers.core.activation.Activation object at 0x7f7624a1eaa0>\n",
            "<keras.layers.convolutional.conv2d.Conv2D object at 0x7f7624a1fdc0>\n",
            "<keras.layers.normalization.batch_normalization.BatchNormalization object at 0x7f7624a1e3b0>\n",
            "<keras.layers.core.activation.Activation object at 0x7f7624a1d1b0>\n",
            "<keras.layers.convolutional.conv2d.Conv2D object at 0x7f7624a3d240>\n",
            "<keras.layers.normalization.batch_normalization.BatchNormalization object at 0x7f7624a1fd30>\n",
            "<keras.layers.merging.add.Add object at 0x7f7624b5e4a0>\n",
            "<keras.layers.core.activation.Activation object at 0x7f7624a1f5e0>\n",
            "<keras.layers.convolutional.conv2d.Conv2D object at 0x7f76249fcbb0>\n",
            "<keras.layers.normalization.batch_normalization.BatchNormalization object at 0x7f76249fca30>\n",
            "<keras.layers.core.activation.Activation object at 0x7f76249fd960>\n",
            "<keras.layers.convolutional.conv2d.Conv2D object at 0x7f76249fe110>\n",
            "<keras.layers.normalization.batch_normalization.BatchNormalization object at 0x7f76249fda50>\n",
            "<keras.layers.core.activation.Activation object at 0x7f7624a1d690>\n",
            "<keras.layers.convolutional.conv2d.Conv2D object at 0x7f7624ba4ca0>\n",
            "<keras.layers.normalization.batch_normalization.BatchNormalization object at 0x7f7624b80b50>\n",
            "<keras.layers.merging.add.Add object at 0x7f7624a1d2a0>\n",
            "<keras.layers.core.activation.Activation object at 0x7f7624a3d2a0>\n",
            "<keras.layers.convolutional.conv2d.Conv2D object at 0x7f7624a3e950>\n",
            "<keras.layers.normalization.batch_normalization.BatchNormalization object at 0x7f7624a3f880>\n",
            "<keras.layers.core.activation.Activation object at 0x7f7624a3ded0>\n",
            "<keras.layers.convolutional.conv2d.Conv2D object at 0x7f7624a3f790>\n",
            "<keras.layers.normalization.batch_normalization.BatchNormalization object at 0x7f7624a3d390>\n",
            "<keras.layers.core.activation.Activation object at 0x7f7624a02b60>\n",
            "<keras.layers.convolutional.conv2d.Conv2D object at 0x7f7624a01e70>\n",
            "<keras.layers.normalization.batch_normalization.BatchNormalization object at 0x7f7624a03d30>\n",
            "<keras.layers.merging.add.Add object at 0x7f7624a01d50>\n",
            "<keras.layers.core.activation.Activation object at 0x7f7624a033a0>\n",
            "<keras.layers.convolutional.conv2d.Conv2D object at 0x7f7624a03070>\n",
            "<keras.layers.normalization.batch_normalization.BatchNormalization object at 0x7f7624a76bc0>\n",
            "<keras.layers.core.activation.Activation object at 0x7f7624a76fb0>\n",
            "<keras.layers.convolutional.conv2d.Conv2D object at 0x7f7624a77a00>\n",
            "<keras.layers.normalization.batch_normalization.BatchNormalization object at 0x7f7624a769b0>\n",
            "<keras.layers.core.activation.Activation object at 0x7f7624a763b0>\n",
            "<keras.layers.convolutional.conv2d.Conv2D object at 0x7f7624a03e50>\n",
            "<keras.layers.convolutional.conv2d.Conv2D object at 0x7f7624a76920>\n",
            "<keras.layers.normalization.batch_normalization.BatchNormalization object at 0x7f7624a033d0>\n",
            "<keras.layers.normalization.batch_normalization.BatchNormalization object at 0x7f7624a922c0>\n",
            "<keras.layers.merging.add.Add object at 0x7f7624a776d0>\n",
            "<keras.layers.core.activation.Activation object at 0x7f7624a93760>\n",
            "<keras.layers.convolutional.conv2d.Conv2D object at 0x7f7624a92860>\n",
            "<keras.layers.normalization.batch_normalization.BatchNormalization object at 0x7f7624a91300>\n",
            "<keras.layers.core.activation.Activation object at 0x7f7624a93b50>\n",
            "<keras.layers.convolutional.conv2d.Conv2D object at 0x7f7624a93a60>\n",
            "<keras.layers.normalization.batch_normalization.BatchNormalization object at 0x7f7624aa9f00>\n",
            "<keras.layers.core.activation.Activation object at 0x7f7624a91ff0>\n",
            "<keras.layers.convolutional.conv2d.Conv2D object at 0x7f7624a92ad0>\n",
            "<keras.layers.normalization.batch_normalization.BatchNormalization object at 0x7f7624a90dc0>\n",
            "<keras.layers.merging.add.Add object at 0x7f7624a3c460>\n",
            "<keras.layers.core.activation.Activation object at 0x7f7624a3c1c0>\n",
            "<keras.layers.convolutional.conv2d.Conv2D object at 0x7f7624a00820>\n",
            "<keras.layers.normalization.batch_normalization.BatchNormalization object at 0x7f7624ba4700>\n",
            "<keras.layers.core.activation.Activation object at 0x7f76249fc6d0>\n",
            "<keras.layers.convolutional.conv2d.Conv2D object at 0x7f76249fcee0>\n",
            "<keras.layers.normalization.batch_normalization.BatchNormalization object at 0x7f7624a038b0>\n",
            "<keras.layers.core.activation.Activation object at 0x7f7624a00ca0>\n",
            "<keras.layers.convolutional.conv2d.Conv2D object at 0x7f7624aab730>\n",
            "<keras.layers.normalization.batch_normalization.BatchNormalization object at 0x7f7624aab550>\n",
            "<keras.layers.merging.add.Add object at 0x7f7624aab7c0>\n",
            "<keras.layers.core.activation.Activation object at 0x7f7624aab8b0>\n",
            "<keras.layers.convolutional.conv2d.Conv2D object at 0x7f7624ac1480>\n",
            "<keras.layers.normalization.batch_normalization.BatchNormalization object at 0x7f7624ac2b60>\n",
            "<keras.layers.core.activation.Activation object at 0x7f7624ac2470>\n",
            "<keras.layers.convolutional.conv2d.Conv2D object at 0x7f7624ac3760>\n",
            "<keras.layers.normalization.batch_normalization.BatchNormalization object at 0x7f7624ac1c30>\n",
            "<keras.layers.core.activation.Activation object at 0x7f7624ac38e0>\n",
            "<keras.layers.convolutional.conv2d.Conv2D object at 0x7f7624ac3cd0>\n",
            "<keras.layers.normalization.batch_normalization.BatchNormalization object at 0x7f76248ea080>\n",
            "<keras.layers.merging.add.Add object at 0x7f7624ac23e0>\n",
            "<keras.layers.core.activation.Activation object at 0x7f76248eb520>\n",
            "<keras.layers.convolutional.conv2d.Conv2D object at 0x7f76248ead40>\n",
            "<keras.layers.normalization.batch_normalization.BatchNormalization object at 0x7f76248eb550>\n",
            "<keras.layers.core.activation.Activation object at 0x7f76248ebf10>\n",
            "<keras.layers.convolutional.conv2d.Conv2D object at 0x7f76248ebe80>\n",
            "<keras.layers.normalization.batch_normalization.BatchNormalization object at 0x7f7624901c90>\n",
            "<keras.layers.core.activation.Activation object at 0x7f76249019c0>\n",
            "<keras.layers.convolutional.conv2d.Conv2D object at 0x7f7624902890>\n",
            "<keras.layers.normalization.batch_normalization.BatchNormalization object at 0x7f7624903910>\n",
            "<keras.layers.merging.add.Add object at 0x7f7624902950>\n",
            "<keras.layers.core.activation.Activation object at 0x7f7624901a20>\n",
            "<keras.layers.convolutional.conv2d.Conv2D object at 0x7f7624903eb0>\n",
            "<keras.layers.normalization.batch_normalization.BatchNormalization object at 0x7f762491dcc0>\n",
            "<keras.layers.core.activation.Activation object at 0x7f7624903820>\n",
            "<keras.layers.convolutional.conv2d.Conv2D object at 0x7f762491e110>\n",
            "<keras.layers.normalization.batch_normalization.BatchNormalization object at 0x7f762491f520>\n",
            "<keras.layers.core.activation.Activation object at 0x7f762491f100>\n",
            "<keras.layers.convolutional.conv2d.Conv2D object at 0x7f762491d6c0>\n",
            "<keras.layers.normalization.batch_normalization.BatchNormalization object at 0x7f762491cd60>\n",
            "<keras.layers.merging.add.Add object at 0x7f7624903250>\n",
            "<keras.layers.core.activation.Activation object at 0x7f76249015d0>\n",
            "<keras.layers.convolutional.conv2d.Conv2D object at 0x7f76248e90f0>\n",
            "<keras.layers.normalization.batch_normalization.BatchNormalization object at 0x7f76248e97b0>\n",
            "<keras.layers.core.activation.Activation object at 0x7f76248e89a0>\n",
            "<keras.layers.convolutional.conv2d.Conv2D object at 0x7f7624aaac80>\n",
            "<keras.layers.normalization.batch_normalization.BatchNormalization object at 0x7f7624aa89a0>\n",
            "<keras.layers.core.activation.Activation object at 0x7f7624aaab00>\n",
            "<keras.layers.convolutional.conv2d.Conv2D object at 0x7f762491c130>\n",
            "<keras.layers.convolutional.conv2d.Conv2D object at 0x7f7624945540>\n",
            "<keras.layers.normalization.batch_normalization.BatchNormalization object at 0x7f762491e470>\n",
            "<keras.layers.normalization.batch_normalization.BatchNormalization object at 0x7f7624946710>\n",
            "<keras.layers.merging.add.Add object at 0x7f7624aa9b40>\n",
            "<keras.layers.core.activation.Activation object at 0x7f7624947bb0>\n",
            "<keras.layers.convolutional.conv2d.Conv2D object at 0x7f7624946cb0>\n",
            "<keras.layers.normalization.batch_normalization.BatchNormalization object at 0x7f7624946440>\n",
            "<keras.layers.core.activation.Activation object at 0x7f7624946410>\n",
            "<keras.layers.convolutional.conv2d.Conv2D object at 0x7f7624946dd0>\n",
            "<keras.layers.normalization.batch_normalization.BatchNormalization object at 0x7f7624962350>\n",
            "<keras.layers.core.activation.Activation object at 0x7f7624962080>\n",
            "<keras.layers.convolutional.conv2d.Conv2D object at 0x7f7624962f50>\n",
            "<keras.layers.normalization.batch_normalization.BatchNormalization object at 0x7f76249621a0>\n",
            "<keras.layers.merging.add.Add object at 0x7f7624963010>\n",
            "<keras.layers.core.activation.Activation object at 0x7f76249638e0>\n",
            "<keras.layers.convolutional.conv2d.Conv2D object at 0x7f762497c460>\n",
            "<keras.layers.normalization.batch_normalization.BatchNormalization object at 0x7f762497e380>\n",
            "<keras.layers.core.activation.Activation object at 0x7f7624963220>\n",
            "<keras.layers.convolutional.conv2d.Conv2D object at 0x7f762497e740>\n",
            "<keras.layers.normalization.batch_normalization.BatchNormalization object at 0x7f762497fbe0>\n",
            "<keras.layers.core.activation.Activation object at 0x7f762497f6d0>\n",
            "<keras.layers.convolutional.conv2d.Conv2D object at 0x7f762497efe0>\n",
            "<keras.layers.normalization.batch_normalization.BatchNormalization object at 0x7f76249989a0>\n",
            "<keras.layers.merging.add.Add object at 0x7f762497efb0>\n",
            "<keras.layers.core.activation.Activation object at 0x7f762499ac50>\n"
          ]
        }
      ]
    },
    {
      "cell_type": "code",
      "source": [
        "x = Flatten()(resnet.output)"
      ],
      "metadata": {
        "id": "kXfNBAyd7MrU"
      },
      "execution_count": 73,
      "outputs": []
    },
    {
      "cell_type": "code",
      "source": [
        "out = Dense(4, activation='softmax')(x)\n",
        "     \n",
        "\n",
        "res_model = Model(inputs=resnet.input,outputs=out)\n",
        "     \n",
        "\n",
        "res_model.summary()"
      ],
      "metadata": {
        "colab": {
          "base_uri": "https://localhost:8080/"
        },
        "id": "sXYSqxJq7Pkh",
        "outputId": "243b276d-a003-4637-884e-beb2077cf98a"
      },
      "execution_count": 74,
      "outputs": [
        {
          "output_type": "stream",
          "name": "stdout",
          "text": [
            "Model: \"model_2\"\n",
            "__________________________________________________________________________________________________\n",
            " Layer (type)                   Output Shape         Param #     Connected to                     \n",
            "==================================================================================================\n",
            " input_3 (InputLayer)           [(None, 224, 224, 3  0           []                               \n",
            "                                )]                                                                \n",
            "                                                                                                  \n",
            " conv1_pad (ZeroPadding2D)      (None, 230, 230, 3)  0           ['input_3[0][0]']                \n",
            "                                                                                                  \n",
            " conv1_conv (Conv2D)            (None, 112, 112, 64  9472        ['conv1_pad[0][0]']              \n",
            "                                )                                                                 \n",
            "                                                                                                  \n",
            " conv1_bn (BatchNormalization)  (None, 112, 112, 64  256         ['conv1_conv[0][0]']             \n",
            "                                )                                                                 \n",
            "                                                                                                  \n",
            " conv1_relu (Activation)        (None, 112, 112, 64  0           ['conv1_bn[0][0]']               \n",
            "                                )                                                                 \n",
            "                                                                                                  \n",
            " pool1_pad (ZeroPadding2D)      (None, 114, 114, 64  0           ['conv1_relu[0][0]']             \n",
            "                                )                                                                 \n",
            "                                                                                                  \n",
            " pool1_pool (MaxPooling2D)      (None, 56, 56, 64)   0           ['pool1_pad[0][0]']              \n",
            "                                                                                                  \n",
            " conv2_block1_1_conv (Conv2D)   (None, 56, 56, 64)   4160        ['pool1_pool[0][0]']             \n",
            "                                                                                                  \n",
            " conv2_block1_1_bn (BatchNormal  (None, 56, 56, 64)  256         ['conv2_block1_1_conv[0][0]']    \n",
            " ization)                                                                                         \n",
            "                                                                                                  \n",
            " conv2_block1_1_relu (Activatio  (None, 56, 56, 64)  0           ['conv2_block1_1_bn[0][0]']      \n",
            " n)                                                                                               \n",
            "                                                                                                  \n",
            " conv2_block1_2_conv (Conv2D)   (None, 56, 56, 64)   36928       ['conv2_block1_1_relu[0][0]']    \n",
            "                                                                                                  \n",
            " conv2_block1_2_bn (BatchNormal  (None, 56, 56, 64)  256         ['conv2_block1_2_conv[0][0]']    \n",
            " ization)                                                                                         \n",
            "                                                                                                  \n",
            " conv2_block1_2_relu (Activatio  (None, 56, 56, 64)  0           ['conv2_block1_2_bn[0][0]']      \n",
            " n)                                                                                               \n",
            "                                                                                                  \n",
            " conv2_block1_0_conv (Conv2D)   (None, 56, 56, 256)  16640       ['pool1_pool[0][0]']             \n",
            "                                                                                                  \n",
            " conv2_block1_3_conv (Conv2D)   (None, 56, 56, 256)  16640       ['conv2_block1_2_relu[0][0]']    \n",
            "                                                                                                  \n",
            " conv2_block1_0_bn (BatchNormal  (None, 56, 56, 256)  1024       ['conv2_block1_0_conv[0][0]']    \n",
            " ization)                                                                                         \n",
            "                                                                                                  \n",
            " conv2_block1_3_bn (BatchNormal  (None, 56, 56, 256)  1024       ['conv2_block1_3_conv[0][0]']    \n",
            " ization)                                                                                         \n",
            "                                                                                                  \n",
            " conv2_block1_add (Add)         (None, 56, 56, 256)  0           ['conv2_block1_0_bn[0][0]',      \n",
            "                                                                  'conv2_block1_3_bn[0][0]']      \n",
            "                                                                                                  \n",
            " conv2_block1_out (Activation)  (None, 56, 56, 256)  0           ['conv2_block1_add[0][0]']       \n",
            "                                                                                                  \n",
            " conv2_block2_1_conv (Conv2D)   (None, 56, 56, 64)   16448       ['conv2_block1_out[0][0]']       \n",
            "                                                                                                  \n",
            " conv2_block2_1_bn (BatchNormal  (None, 56, 56, 64)  256         ['conv2_block2_1_conv[0][0]']    \n",
            " ization)                                                                                         \n",
            "                                                                                                  \n",
            " conv2_block2_1_relu (Activatio  (None, 56, 56, 64)  0           ['conv2_block2_1_bn[0][0]']      \n",
            " n)                                                                                               \n",
            "                                                                                                  \n",
            " conv2_block2_2_conv (Conv2D)   (None, 56, 56, 64)   36928       ['conv2_block2_1_relu[0][0]']    \n",
            "                                                                                                  \n",
            " conv2_block2_2_bn (BatchNormal  (None, 56, 56, 64)  256         ['conv2_block2_2_conv[0][0]']    \n",
            " ization)                                                                                         \n",
            "                                                                                                  \n",
            " conv2_block2_2_relu (Activatio  (None, 56, 56, 64)  0           ['conv2_block2_2_bn[0][0]']      \n",
            " n)                                                                                               \n",
            "                                                                                                  \n",
            " conv2_block2_3_conv (Conv2D)   (None, 56, 56, 256)  16640       ['conv2_block2_2_relu[0][0]']    \n",
            "                                                                                                  \n",
            " conv2_block2_3_bn (BatchNormal  (None, 56, 56, 256)  1024       ['conv2_block2_3_conv[0][0]']    \n",
            " ization)                                                                                         \n",
            "                                                                                                  \n",
            " conv2_block2_add (Add)         (None, 56, 56, 256)  0           ['conv2_block1_out[0][0]',       \n",
            "                                                                  'conv2_block2_3_bn[0][0]']      \n",
            "                                                                                                  \n",
            " conv2_block2_out (Activation)  (None, 56, 56, 256)  0           ['conv2_block2_add[0][0]']       \n",
            "                                                                                                  \n",
            " conv2_block3_1_conv (Conv2D)   (None, 56, 56, 64)   16448       ['conv2_block2_out[0][0]']       \n",
            "                                                                                                  \n",
            " conv2_block3_1_bn (BatchNormal  (None, 56, 56, 64)  256         ['conv2_block3_1_conv[0][0]']    \n",
            " ization)                                                                                         \n",
            "                                                                                                  \n",
            " conv2_block3_1_relu (Activatio  (None, 56, 56, 64)  0           ['conv2_block3_1_bn[0][0]']      \n",
            " n)                                                                                               \n",
            "                                                                                                  \n",
            " conv2_block3_2_conv (Conv2D)   (None, 56, 56, 64)   36928       ['conv2_block3_1_relu[0][0]']    \n",
            "                                                                                                  \n",
            " conv2_block3_2_bn (BatchNormal  (None, 56, 56, 64)  256         ['conv2_block3_2_conv[0][0]']    \n",
            " ization)                                                                                         \n",
            "                                                                                                  \n",
            " conv2_block3_2_relu (Activatio  (None, 56, 56, 64)  0           ['conv2_block3_2_bn[0][0]']      \n",
            " n)                                                                                               \n",
            "                                                                                                  \n",
            " conv2_block3_3_conv (Conv2D)   (None, 56, 56, 256)  16640       ['conv2_block3_2_relu[0][0]']    \n",
            "                                                                                                  \n",
            " conv2_block3_3_bn (BatchNormal  (None, 56, 56, 256)  1024       ['conv2_block3_3_conv[0][0]']    \n",
            " ization)                                                                                         \n",
            "                                                                                                  \n",
            " conv2_block3_add (Add)         (None, 56, 56, 256)  0           ['conv2_block2_out[0][0]',       \n",
            "                                                                  'conv2_block3_3_bn[0][0]']      \n",
            "                                                                                                  \n",
            " conv2_block3_out (Activation)  (None, 56, 56, 256)  0           ['conv2_block3_add[0][0]']       \n",
            "                                                                                                  \n",
            " conv3_block1_1_conv (Conv2D)   (None, 28, 28, 128)  32896       ['conv2_block3_out[0][0]']       \n",
            "                                                                                                  \n",
            " conv3_block1_1_bn (BatchNormal  (None, 28, 28, 128)  512        ['conv3_block1_1_conv[0][0]']    \n",
            " ization)                                                                                         \n",
            "                                                                                                  \n",
            " conv3_block1_1_relu (Activatio  (None, 28, 28, 128)  0          ['conv3_block1_1_bn[0][0]']      \n",
            " n)                                                                                               \n",
            "                                                                                                  \n",
            " conv3_block1_2_conv (Conv2D)   (None, 28, 28, 128)  147584      ['conv3_block1_1_relu[0][0]']    \n",
            "                                                                                                  \n",
            " conv3_block1_2_bn (BatchNormal  (None, 28, 28, 128)  512        ['conv3_block1_2_conv[0][0]']    \n",
            " ization)                                                                                         \n",
            "                                                                                                  \n",
            " conv3_block1_2_relu (Activatio  (None, 28, 28, 128)  0          ['conv3_block1_2_bn[0][0]']      \n",
            " n)                                                                                               \n",
            "                                                                                                  \n",
            " conv3_block1_0_conv (Conv2D)   (None, 28, 28, 512)  131584      ['conv2_block3_out[0][0]']       \n",
            "                                                                                                  \n",
            " conv3_block1_3_conv (Conv2D)   (None, 28, 28, 512)  66048       ['conv3_block1_2_relu[0][0]']    \n",
            "                                                                                                  \n",
            " conv3_block1_0_bn (BatchNormal  (None, 28, 28, 512)  2048       ['conv3_block1_0_conv[0][0]']    \n",
            " ization)                                                                                         \n",
            "                                                                                                  \n",
            " conv3_block1_3_bn (BatchNormal  (None, 28, 28, 512)  2048       ['conv3_block1_3_conv[0][0]']    \n",
            " ization)                                                                                         \n",
            "                                                                                                  \n",
            " conv3_block1_add (Add)         (None, 28, 28, 512)  0           ['conv3_block1_0_bn[0][0]',      \n",
            "                                                                  'conv3_block1_3_bn[0][0]']      \n",
            "                                                                                                  \n",
            " conv3_block1_out (Activation)  (None, 28, 28, 512)  0           ['conv3_block1_add[0][0]']       \n",
            "                                                                                                  \n",
            " conv3_block2_1_conv (Conv2D)   (None, 28, 28, 128)  65664       ['conv3_block1_out[0][0]']       \n",
            "                                                                                                  \n",
            " conv3_block2_1_bn (BatchNormal  (None, 28, 28, 128)  512        ['conv3_block2_1_conv[0][0]']    \n",
            " ization)                                                                                         \n",
            "                                                                                                  \n",
            " conv3_block2_1_relu (Activatio  (None, 28, 28, 128)  0          ['conv3_block2_1_bn[0][0]']      \n",
            " n)                                                                                               \n",
            "                                                                                                  \n",
            " conv3_block2_2_conv (Conv2D)   (None, 28, 28, 128)  147584      ['conv3_block2_1_relu[0][0]']    \n",
            "                                                                                                  \n",
            " conv3_block2_2_bn (BatchNormal  (None, 28, 28, 128)  512        ['conv3_block2_2_conv[0][0]']    \n",
            " ization)                                                                                         \n",
            "                                                                                                  \n",
            " conv3_block2_2_relu (Activatio  (None, 28, 28, 128)  0          ['conv3_block2_2_bn[0][0]']      \n",
            " n)                                                                                               \n",
            "                                                                                                  \n",
            " conv3_block2_3_conv (Conv2D)   (None, 28, 28, 512)  66048       ['conv3_block2_2_relu[0][0]']    \n",
            "                                                                                                  \n",
            " conv3_block2_3_bn (BatchNormal  (None, 28, 28, 512)  2048       ['conv3_block2_3_conv[0][0]']    \n",
            " ization)                                                                                         \n",
            "                                                                                                  \n",
            " conv3_block2_add (Add)         (None, 28, 28, 512)  0           ['conv3_block1_out[0][0]',       \n",
            "                                                                  'conv3_block2_3_bn[0][0]']      \n",
            "                                                                                                  \n",
            " conv3_block2_out (Activation)  (None, 28, 28, 512)  0           ['conv3_block2_add[0][0]']       \n",
            "                                                                                                  \n",
            " conv3_block3_1_conv (Conv2D)   (None, 28, 28, 128)  65664       ['conv3_block2_out[0][0]']       \n",
            "                                                                                                  \n",
            " conv3_block3_1_bn (BatchNormal  (None, 28, 28, 128)  512        ['conv3_block3_1_conv[0][0]']    \n",
            " ization)                                                                                         \n",
            "                                                                                                  \n",
            " conv3_block3_1_relu (Activatio  (None, 28, 28, 128)  0          ['conv3_block3_1_bn[0][0]']      \n",
            " n)                                                                                               \n",
            "                                                                                                  \n",
            " conv3_block3_2_conv (Conv2D)   (None, 28, 28, 128)  147584      ['conv3_block3_1_relu[0][0]']    \n",
            "                                                                                                  \n",
            " conv3_block3_2_bn (BatchNormal  (None, 28, 28, 128)  512        ['conv3_block3_2_conv[0][0]']    \n",
            " ization)                                                                                         \n",
            "                                                                                                  \n",
            " conv3_block3_2_relu (Activatio  (None, 28, 28, 128)  0          ['conv3_block3_2_bn[0][0]']      \n",
            " n)                                                                                               \n",
            "                                                                                                  \n",
            " conv3_block3_3_conv (Conv2D)   (None, 28, 28, 512)  66048       ['conv3_block3_2_relu[0][0]']    \n",
            "                                                                                                  \n",
            " conv3_block3_3_bn (BatchNormal  (None, 28, 28, 512)  2048       ['conv3_block3_3_conv[0][0]']    \n",
            " ization)                                                                                         \n",
            "                                                                                                  \n",
            " conv3_block3_add (Add)         (None, 28, 28, 512)  0           ['conv3_block2_out[0][0]',       \n",
            "                                                                  'conv3_block3_3_bn[0][0]']      \n",
            "                                                                                                  \n",
            " conv3_block3_out (Activation)  (None, 28, 28, 512)  0           ['conv3_block3_add[0][0]']       \n",
            "                                                                                                  \n",
            " conv3_block4_1_conv (Conv2D)   (None, 28, 28, 128)  65664       ['conv3_block3_out[0][0]']       \n",
            "                                                                                                  \n",
            " conv3_block4_1_bn (BatchNormal  (None, 28, 28, 128)  512        ['conv3_block4_1_conv[0][0]']    \n",
            " ization)                                                                                         \n",
            "                                                                                                  \n",
            " conv3_block4_1_relu (Activatio  (None, 28, 28, 128)  0          ['conv3_block4_1_bn[0][0]']      \n",
            " n)                                                                                               \n",
            "                                                                                                  \n",
            " conv3_block4_2_conv (Conv2D)   (None, 28, 28, 128)  147584      ['conv3_block4_1_relu[0][0]']    \n",
            "                                                                                                  \n",
            " conv3_block4_2_bn (BatchNormal  (None, 28, 28, 128)  512        ['conv3_block4_2_conv[0][0]']    \n",
            " ization)                                                                                         \n",
            "                                                                                                  \n",
            " conv3_block4_2_relu (Activatio  (None, 28, 28, 128)  0          ['conv3_block4_2_bn[0][0]']      \n",
            " n)                                                                                               \n",
            "                                                                                                  \n",
            " conv3_block4_3_conv (Conv2D)   (None, 28, 28, 512)  66048       ['conv3_block4_2_relu[0][0]']    \n",
            "                                                                                                  \n",
            " conv3_block4_3_bn (BatchNormal  (None, 28, 28, 512)  2048       ['conv3_block4_3_conv[0][0]']    \n",
            " ization)                                                                                         \n",
            "                                                                                                  \n",
            " conv3_block4_add (Add)         (None, 28, 28, 512)  0           ['conv3_block3_out[0][0]',       \n",
            "                                                                  'conv3_block4_3_bn[0][0]']      \n",
            "                                                                                                  \n",
            " conv3_block4_out (Activation)  (None, 28, 28, 512)  0           ['conv3_block4_add[0][0]']       \n",
            "                                                                                                  \n",
            " conv4_block1_1_conv (Conv2D)   (None, 14, 14, 256)  131328      ['conv3_block4_out[0][0]']       \n",
            "                                                                                                  \n",
            " conv4_block1_1_bn (BatchNormal  (None, 14, 14, 256)  1024       ['conv4_block1_1_conv[0][0]']    \n",
            " ization)                                                                                         \n",
            "                                                                                                  \n",
            " conv4_block1_1_relu (Activatio  (None, 14, 14, 256)  0          ['conv4_block1_1_bn[0][0]']      \n",
            " n)                                                                                               \n",
            "                                                                                                  \n",
            " conv4_block1_2_conv (Conv2D)   (None, 14, 14, 256)  590080      ['conv4_block1_1_relu[0][0]']    \n",
            "                                                                                                  \n",
            " conv4_block1_2_bn (BatchNormal  (None, 14, 14, 256)  1024       ['conv4_block1_2_conv[0][0]']    \n",
            " ization)                                                                                         \n",
            "                                                                                                  \n",
            " conv4_block1_2_relu (Activatio  (None, 14, 14, 256)  0          ['conv4_block1_2_bn[0][0]']      \n",
            " n)                                                                                               \n",
            "                                                                                                  \n",
            " conv4_block1_0_conv (Conv2D)   (None, 14, 14, 1024  525312      ['conv3_block4_out[0][0]']       \n",
            "                                )                                                                 \n",
            "                                                                                                  \n",
            " conv4_block1_3_conv (Conv2D)   (None, 14, 14, 1024  263168      ['conv4_block1_2_relu[0][0]']    \n",
            "                                )                                                                 \n",
            "                                                                                                  \n",
            " conv4_block1_0_bn (BatchNormal  (None, 14, 14, 1024  4096       ['conv4_block1_0_conv[0][0]']    \n",
            " ization)                       )                                                                 \n",
            "                                                                                                  \n",
            " conv4_block1_3_bn (BatchNormal  (None, 14, 14, 1024  4096       ['conv4_block1_3_conv[0][0]']    \n",
            " ization)                       )                                                                 \n",
            "                                                                                                  \n",
            " conv4_block1_add (Add)         (None, 14, 14, 1024  0           ['conv4_block1_0_bn[0][0]',      \n",
            "                                )                                 'conv4_block1_3_bn[0][0]']      \n",
            "                                                                                                  \n",
            " conv4_block1_out (Activation)  (None, 14, 14, 1024  0           ['conv4_block1_add[0][0]']       \n",
            "                                )                                                                 \n",
            "                                                                                                  \n",
            " conv4_block2_1_conv (Conv2D)   (None, 14, 14, 256)  262400      ['conv4_block1_out[0][0]']       \n",
            "                                                                                                  \n",
            " conv4_block2_1_bn (BatchNormal  (None, 14, 14, 256)  1024       ['conv4_block2_1_conv[0][0]']    \n",
            " ization)                                                                                         \n",
            "                                                                                                  \n",
            " conv4_block2_1_relu (Activatio  (None, 14, 14, 256)  0          ['conv4_block2_1_bn[0][0]']      \n",
            " n)                                                                                               \n",
            "                                                                                                  \n",
            " conv4_block2_2_conv (Conv2D)   (None, 14, 14, 256)  590080      ['conv4_block2_1_relu[0][0]']    \n",
            "                                                                                                  \n",
            " conv4_block2_2_bn (BatchNormal  (None, 14, 14, 256)  1024       ['conv4_block2_2_conv[0][0]']    \n",
            " ization)                                                                                         \n",
            "                                                                                                  \n",
            " conv4_block2_2_relu (Activatio  (None, 14, 14, 256)  0          ['conv4_block2_2_bn[0][0]']      \n",
            " n)                                                                                               \n",
            "                                                                                                  \n",
            " conv4_block2_3_conv (Conv2D)   (None, 14, 14, 1024  263168      ['conv4_block2_2_relu[0][0]']    \n",
            "                                )                                                                 \n",
            "                                                                                                  \n",
            " conv4_block2_3_bn (BatchNormal  (None, 14, 14, 1024  4096       ['conv4_block2_3_conv[0][0]']    \n",
            " ization)                       )                                                                 \n",
            "                                                                                                  \n",
            " conv4_block2_add (Add)         (None, 14, 14, 1024  0           ['conv4_block1_out[0][0]',       \n",
            "                                )                                 'conv4_block2_3_bn[0][0]']      \n",
            "                                                                                                  \n",
            " conv4_block2_out (Activation)  (None, 14, 14, 1024  0           ['conv4_block2_add[0][0]']       \n",
            "                                )                                                                 \n",
            "                                                                                                  \n",
            " conv4_block3_1_conv (Conv2D)   (None, 14, 14, 256)  262400      ['conv4_block2_out[0][0]']       \n",
            "                                                                                                  \n",
            " conv4_block3_1_bn (BatchNormal  (None, 14, 14, 256)  1024       ['conv4_block3_1_conv[0][0]']    \n",
            " ization)                                                                                         \n",
            "                                                                                                  \n",
            " conv4_block3_1_relu (Activatio  (None, 14, 14, 256)  0          ['conv4_block3_1_bn[0][0]']      \n",
            " n)                                                                                               \n",
            "                                                                                                  \n",
            " conv4_block3_2_conv (Conv2D)   (None, 14, 14, 256)  590080      ['conv4_block3_1_relu[0][0]']    \n",
            "                                                                                                  \n",
            " conv4_block3_2_bn (BatchNormal  (None, 14, 14, 256)  1024       ['conv4_block3_2_conv[0][0]']    \n",
            " ization)                                                                                         \n",
            "                                                                                                  \n",
            " conv4_block3_2_relu (Activatio  (None, 14, 14, 256)  0          ['conv4_block3_2_bn[0][0]']      \n",
            " n)                                                                                               \n",
            "                                                                                                  \n",
            " conv4_block3_3_conv (Conv2D)   (None, 14, 14, 1024  263168      ['conv4_block3_2_relu[0][0]']    \n",
            "                                )                                                                 \n",
            "                                                                                                  \n",
            " conv4_block3_3_bn (BatchNormal  (None, 14, 14, 1024  4096       ['conv4_block3_3_conv[0][0]']    \n",
            " ization)                       )                                                                 \n",
            "                                                                                                  \n",
            " conv4_block3_add (Add)         (None, 14, 14, 1024  0           ['conv4_block2_out[0][0]',       \n",
            "                                )                                 'conv4_block3_3_bn[0][0]']      \n",
            "                                                                                                  \n",
            " conv4_block3_out (Activation)  (None, 14, 14, 1024  0           ['conv4_block3_add[0][0]']       \n",
            "                                )                                                                 \n",
            "                                                                                                  \n",
            " conv4_block4_1_conv (Conv2D)   (None, 14, 14, 256)  262400      ['conv4_block3_out[0][0]']       \n",
            "                                                                                                  \n",
            " conv4_block4_1_bn (BatchNormal  (None, 14, 14, 256)  1024       ['conv4_block4_1_conv[0][0]']    \n",
            " ization)                                                                                         \n",
            "                                                                                                  \n",
            " conv4_block4_1_relu (Activatio  (None, 14, 14, 256)  0          ['conv4_block4_1_bn[0][0]']      \n",
            " n)                                                                                               \n",
            "                                                                                                  \n",
            " conv4_block4_2_conv (Conv2D)   (None, 14, 14, 256)  590080      ['conv4_block4_1_relu[0][0]']    \n",
            "                                                                                                  \n",
            " conv4_block4_2_bn (BatchNormal  (None, 14, 14, 256)  1024       ['conv4_block4_2_conv[0][0]']    \n",
            " ization)                                                                                         \n",
            "                                                                                                  \n",
            " conv4_block4_2_relu (Activatio  (None, 14, 14, 256)  0          ['conv4_block4_2_bn[0][0]']      \n",
            " n)                                                                                               \n",
            "                                                                                                  \n",
            " conv4_block4_3_conv (Conv2D)   (None, 14, 14, 1024  263168      ['conv4_block4_2_relu[0][0]']    \n",
            "                                )                                                                 \n",
            "                                                                                                  \n",
            " conv4_block4_3_bn (BatchNormal  (None, 14, 14, 1024  4096       ['conv4_block4_3_conv[0][0]']    \n",
            " ization)                       )                                                                 \n",
            "                                                                                                  \n",
            " conv4_block4_add (Add)         (None, 14, 14, 1024  0           ['conv4_block3_out[0][0]',       \n",
            "                                )                                 'conv4_block4_3_bn[0][0]']      \n",
            "                                                                                                  \n",
            " conv4_block4_out (Activation)  (None, 14, 14, 1024  0           ['conv4_block4_add[0][0]']       \n",
            "                                )                                                                 \n",
            "                                                                                                  \n",
            " conv4_block5_1_conv (Conv2D)   (None, 14, 14, 256)  262400      ['conv4_block4_out[0][0]']       \n",
            "                                                                                                  \n",
            " conv4_block5_1_bn (BatchNormal  (None, 14, 14, 256)  1024       ['conv4_block5_1_conv[0][0]']    \n",
            " ization)                                                                                         \n",
            "                                                                                                  \n",
            " conv4_block5_1_relu (Activatio  (None, 14, 14, 256)  0          ['conv4_block5_1_bn[0][0]']      \n",
            " n)                                                                                               \n",
            "                                                                                                  \n",
            " conv4_block5_2_conv (Conv2D)   (None, 14, 14, 256)  590080      ['conv4_block5_1_relu[0][0]']    \n",
            "                                                                                                  \n",
            " conv4_block5_2_bn (BatchNormal  (None, 14, 14, 256)  1024       ['conv4_block5_2_conv[0][0]']    \n",
            " ization)                                                                                         \n",
            "                                                                                                  \n",
            " conv4_block5_2_relu (Activatio  (None, 14, 14, 256)  0          ['conv4_block5_2_bn[0][0]']      \n",
            " n)                                                                                               \n",
            "                                                                                                  \n",
            " conv4_block5_3_conv (Conv2D)   (None, 14, 14, 1024  263168      ['conv4_block5_2_relu[0][0]']    \n",
            "                                )                                                                 \n",
            "                                                                                                  \n",
            " conv4_block5_3_bn (BatchNormal  (None, 14, 14, 1024  4096       ['conv4_block5_3_conv[0][0]']    \n",
            " ization)                       )                                                                 \n",
            "                                                                                                  \n",
            " conv4_block5_add (Add)         (None, 14, 14, 1024  0           ['conv4_block4_out[0][0]',       \n",
            "                                )                                 'conv4_block5_3_bn[0][0]']      \n",
            "                                                                                                  \n",
            " conv4_block5_out (Activation)  (None, 14, 14, 1024  0           ['conv4_block5_add[0][0]']       \n",
            "                                )                                                                 \n",
            "                                                                                                  \n",
            " conv4_block6_1_conv (Conv2D)   (None, 14, 14, 256)  262400      ['conv4_block5_out[0][0]']       \n",
            "                                                                                                  \n",
            " conv4_block6_1_bn (BatchNormal  (None, 14, 14, 256)  1024       ['conv4_block6_1_conv[0][0]']    \n",
            " ization)                                                                                         \n",
            "                                                                                                  \n",
            " conv4_block6_1_relu (Activatio  (None, 14, 14, 256)  0          ['conv4_block6_1_bn[0][0]']      \n",
            " n)                                                                                               \n",
            "                                                                                                  \n",
            " conv4_block6_2_conv (Conv2D)   (None, 14, 14, 256)  590080      ['conv4_block6_1_relu[0][0]']    \n",
            "                                                                                                  \n",
            " conv4_block6_2_bn (BatchNormal  (None, 14, 14, 256)  1024       ['conv4_block6_2_conv[0][0]']    \n",
            " ization)                                                                                         \n",
            "                                                                                                  \n",
            " conv4_block6_2_relu (Activatio  (None, 14, 14, 256)  0          ['conv4_block6_2_bn[0][0]']      \n",
            " n)                                                                                               \n",
            "                                                                                                  \n",
            " conv4_block6_3_conv (Conv2D)   (None, 14, 14, 1024  263168      ['conv4_block6_2_relu[0][0]']    \n",
            "                                )                                                                 \n",
            "                                                                                                  \n",
            " conv4_block6_3_bn (BatchNormal  (None, 14, 14, 1024  4096       ['conv4_block6_3_conv[0][0]']    \n",
            " ization)                       )                                                                 \n",
            "                                                                                                  \n",
            " conv4_block6_add (Add)         (None, 14, 14, 1024  0           ['conv4_block5_out[0][0]',       \n",
            "                                )                                 'conv4_block6_3_bn[0][0]']      \n",
            "                                                                                                  \n",
            " conv4_block6_out (Activation)  (None, 14, 14, 1024  0           ['conv4_block6_add[0][0]']       \n",
            "                                )                                                                 \n",
            "                                                                                                  \n",
            " conv5_block1_1_conv (Conv2D)   (None, 7, 7, 512)    524800      ['conv4_block6_out[0][0]']       \n",
            "                                                                                                  \n",
            " conv5_block1_1_bn (BatchNormal  (None, 7, 7, 512)   2048        ['conv5_block1_1_conv[0][0]']    \n",
            " ization)                                                                                         \n",
            "                                                                                                  \n",
            " conv5_block1_1_relu (Activatio  (None, 7, 7, 512)   0           ['conv5_block1_1_bn[0][0]']      \n",
            " n)                                                                                               \n",
            "                                                                                                  \n",
            " conv5_block1_2_conv (Conv2D)   (None, 7, 7, 512)    2359808     ['conv5_block1_1_relu[0][0]']    \n",
            "                                                                                                  \n",
            " conv5_block1_2_bn (BatchNormal  (None, 7, 7, 512)   2048        ['conv5_block1_2_conv[0][0]']    \n",
            " ization)                                                                                         \n",
            "                                                                                                  \n",
            " conv5_block1_2_relu (Activatio  (None, 7, 7, 512)   0           ['conv5_block1_2_bn[0][0]']      \n",
            " n)                                                                                               \n",
            "                                                                                                  \n",
            " conv5_block1_0_conv (Conv2D)   (None, 7, 7, 2048)   2099200     ['conv4_block6_out[0][0]']       \n",
            "                                                                                                  \n",
            " conv5_block1_3_conv (Conv2D)   (None, 7, 7, 2048)   1050624     ['conv5_block1_2_relu[0][0]']    \n",
            "                                                                                                  \n",
            " conv5_block1_0_bn (BatchNormal  (None, 7, 7, 2048)  8192        ['conv5_block1_0_conv[0][0]']    \n",
            " ization)                                                                                         \n",
            "                                                                                                  \n",
            " conv5_block1_3_bn (BatchNormal  (None, 7, 7, 2048)  8192        ['conv5_block1_3_conv[0][0]']    \n",
            " ization)                                                                                         \n",
            "                                                                                                  \n",
            " conv5_block1_add (Add)         (None, 7, 7, 2048)   0           ['conv5_block1_0_bn[0][0]',      \n",
            "                                                                  'conv5_block1_3_bn[0][0]']      \n",
            "                                                                                                  \n",
            " conv5_block1_out (Activation)  (None, 7, 7, 2048)   0           ['conv5_block1_add[0][0]']       \n",
            "                                                                                                  \n",
            " conv5_block2_1_conv (Conv2D)   (None, 7, 7, 512)    1049088     ['conv5_block1_out[0][0]']       \n",
            "                                                                                                  \n",
            " conv5_block2_1_bn (BatchNormal  (None, 7, 7, 512)   2048        ['conv5_block2_1_conv[0][0]']    \n",
            " ization)                                                                                         \n",
            "                                                                                                  \n",
            " conv5_block2_1_relu (Activatio  (None, 7, 7, 512)   0           ['conv5_block2_1_bn[0][0]']      \n",
            " n)                                                                                               \n",
            "                                                                                                  \n",
            " conv5_block2_2_conv (Conv2D)   (None, 7, 7, 512)    2359808     ['conv5_block2_1_relu[0][0]']    \n",
            "                                                                                                  \n",
            " conv5_block2_2_bn (BatchNormal  (None, 7, 7, 512)   2048        ['conv5_block2_2_conv[0][0]']    \n",
            " ization)                                                                                         \n",
            "                                                                                                  \n",
            " conv5_block2_2_relu (Activatio  (None, 7, 7, 512)   0           ['conv5_block2_2_bn[0][0]']      \n",
            " n)                                                                                               \n",
            "                                                                                                  \n",
            " conv5_block2_3_conv (Conv2D)   (None, 7, 7, 2048)   1050624     ['conv5_block2_2_relu[0][0]']    \n",
            "                                                                                                  \n",
            " conv5_block2_3_bn (BatchNormal  (None, 7, 7, 2048)  8192        ['conv5_block2_3_conv[0][0]']    \n",
            " ization)                                                                                         \n",
            "                                                                                                  \n",
            " conv5_block2_add (Add)         (None, 7, 7, 2048)   0           ['conv5_block1_out[0][0]',       \n",
            "                                                                  'conv5_block2_3_bn[0][0]']      \n",
            "                                                                                                  \n",
            " conv5_block2_out (Activation)  (None, 7, 7, 2048)   0           ['conv5_block2_add[0][0]']       \n",
            "                                                                                                  \n",
            " conv5_block3_1_conv (Conv2D)   (None, 7, 7, 512)    1049088     ['conv5_block2_out[0][0]']       \n",
            "                                                                                                  \n",
            " conv5_block3_1_bn (BatchNormal  (None, 7, 7, 512)   2048        ['conv5_block3_1_conv[0][0]']    \n",
            " ization)                                                                                         \n",
            "                                                                                                  \n",
            " conv5_block3_1_relu (Activatio  (None, 7, 7, 512)   0           ['conv5_block3_1_bn[0][0]']      \n",
            " n)                                                                                               \n",
            "                                                                                                  \n",
            " conv5_block3_2_conv (Conv2D)   (None, 7, 7, 512)    2359808     ['conv5_block3_1_relu[0][0]']    \n",
            "                                                                                                  \n",
            " conv5_block3_2_bn (BatchNormal  (None, 7, 7, 512)   2048        ['conv5_block3_2_conv[0][0]']    \n",
            " ization)                                                                                         \n",
            "                                                                                                  \n",
            " conv5_block3_2_relu (Activatio  (None, 7, 7, 512)   0           ['conv5_block3_2_bn[0][0]']      \n",
            " n)                                                                                               \n",
            "                                                                                                  \n",
            " conv5_block3_3_conv (Conv2D)   (None, 7, 7, 2048)   1050624     ['conv5_block3_2_relu[0][0]']    \n",
            "                                                                                                  \n",
            " conv5_block3_3_bn (BatchNormal  (None, 7, 7, 2048)  8192        ['conv5_block3_3_conv[0][0]']    \n",
            " ization)                                                                                         \n",
            "                                                                                                  \n",
            " conv5_block3_add (Add)         (None, 7, 7, 2048)   0           ['conv5_block2_out[0][0]',       \n",
            "                                                                  'conv5_block3_3_bn[0][0]']      \n",
            "                                                                                                  \n",
            " conv5_block3_out (Activation)  (None, 7, 7, 2048)   0           ['conv5_block3_add[0][0]']       \n",
            "                                                                                                  \n",
            " flatten_5 (Flatten)            (None, 100352)       0           ['conv5_block3_out[0][0]']       \n",
            "                                                                                                  \n",
            " dense_12 (Dense)               (None, 4)            401412      ['flatten_5[0][0]']              \n",
            "                                                                                                  \n",
            "==================================================================================================\n",
            "Total params: 23,989,124\n",
            "Trainable params: 401,412\n",
            "Non-trainable params: 23,587,712\n",
            "__________________________________________________________________________________________________\n"
          ]
        }
      ]
    },
    {
      "cell_type": "code",
      "source": [
        "res_model.compile(loss='categorical_crossentropy',optimizer='adam',metrics=['accuracy'])"
      ],
      "metadata": {
        "id": "kGylO8VC7Rka"
      },
      "execution_count": 77,
      "outputs": []
    },
    {
      "cell_type": "code",
      "source": [],
      "metadata": {
        "id": "5SCflt3s7YW4"
      },
      "execution_count": null,
      "outputs": []
    }
  ]
}
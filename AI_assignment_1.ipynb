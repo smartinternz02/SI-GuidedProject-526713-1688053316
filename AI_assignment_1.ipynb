{
 "cells": [
  {
   "cell_type": "code",
   "execution_count": 18,
   "metadata": {},
   "outputs": [
    {
     "name": "stdout",
     "output_type": "stream",
     "text": [
      "   Feature 1  Feature 2  Feature 3  Feature 4\n",
      "0   0.841619   2.118766  -0.519985  -0.318106\n",
      "1   1.257284   1.277692  -1.272575  -0.299135\n",
      "2   1.801984  -1.874516   0.462630  -1.216524\n",
      "3   0.640295   0.531375   0.409199   0.031311\n"
     ]
    }
   ],
   "source": [
    "# 1. Create a pandas dataframe (DataFrame name as 'df') with numpy random values (4 features and 4 observation)\n",
    "import pandas as pd\n",
    "import numpy as np\n",
    "\n",
    "data = np.random.randn(4, 4)\n",
    "\n",
    "df = pd.DataFrame(data, columns=['Feature 1', 'Feature 2', 'Feature 3', 'Feature 4'])\n",
    "print(df)\n"
   ]
  },
  {
   "cell_type": "code",
   "execution_count": 19,
   "metadata": {},
   "outputs": [
    {
     "name": "stdout",
     "output_type": "stream",
     "text": [
      "   Random value 1  Random value 2  Random value 3  Random value 4\n",
      "0        0.841619        2.118766       -0.519985       -0.318106\n",
      "1        1.257284        1.277692       -1.272575       -0.299135\n",
      "2        1.801984       -1.874516        0.462630       -1.216524\n",
      "3        0.640295        0.531375        0.409199        0.031311\n"
     ]
    }
   ],
   "source": [
    "# 2. Rename the task - 1 'df' dataframe column names to 'Random value 1', 'Random value 2', 'Random value 3' & 'Random value 4'\n",
    "\n",
    "df = pd.DataFrame(data, columns=['Feature 1', 'Feature 2', 'Feature 3', 'Feature 4'])\n",
    "df = df.rename(columns={'Feature 1': 'Random value 1',\n",
    "                        'Feature 2': 'Random value 2',\n",
    "                        'Feature 3': 'Random value 3',\n",
    "                        'Feature 4': 'Random value 4'})\n",
    "print(df)\n"
   ]
  },
  {
   "cell_type": "code",
   "execution_count": 20,
   "metadata": {},
   "outputs": [
    {
     "name": "stdout",
     "output_type": "stream",
     "text": [
      "       Random value 1  Random value 2  Random value 3  Random value 4\n",
      "count        4.000000        4.000000        4.000000        4.000000\n",
      "mean         1.135296        0.513329       -0.230183       -0.450613\n",
      "std          0.513363        1.718896        0.828526        0.535218\n",
      "min          0.640295       -1.874516       -1.272575       -1.216524\n",
      "25%          0.791288       -0.070098       -0.708132       -0.542710\n",
      "50%          1.049452        0.904534       -0.055393       -0.308620\n",
      "75%          1.393459        1.487960        0.422556       -0.216523\n",
      "max          1.801984        2.118766        0.462630        0.031311\n"
     ]
    }
   ],
   "source": [
    "# 3. Find the descriptive statistics of the 'df' dataframe.\n",
    "df = pd.DataFrame(data, columns=['Random value 1', 'Random value 2', 'Random value 3', 'Random value 4'])\n",
    "\n",
    "print(df.describe())\n"
   ]
  },
  {
   "cell_type": "code",
   "execution_count": 21,
   "metadata": {},
   "outputs": [
    {
     "name": "stdout",
     "output_type": "stream",
     "text": [
      "   Random value 1  Random value 2  Random value 3  Random value 4\n",
      "0           False           False           False           False\n",
      "1           False           False           False           False\n",
      "2           False           False           False           False\n",
      "3           False           False           False           False\n",
      "Random value 1    float64\n",
      "Random value 2    float64\n",
      "Random value 3    float64\n",
      "Random value 4    float64\n",
      "dtype: object\n"
     ]
    }
   ],
   "source": [
    "# 4. Check for the null values in 'df' and find the data type of the columns.\n",
    "print(df.isnull())\n",
    "\n",
    "print(df.dtypes)\n"
   ]
  },
  {
   "cell_type": "code",
   "execution_count": 24,
   "metadata": {},
   "outputs": [
    {
     "name": "stdout",
     "output_type": "stream",
     "text": [
      "   Random value 2  Random value 3\n",
      "0        2.118766       -0.519985\n",
      "1        1.277692       -1.272575\n",
      "2       -1.874516        0.462630\n",
      "3        0.531375        0.409199\n",
      "   Random value 2  Random value 3\n",
      "0        2.118766       -0.519985\n",
      "1        1.277692       -1.272575\n",
      "2       -1.874516        0.462630\n",
      "3        0.531375        0.409199\n"
     ]
    }
   ],
   "source": [
    "# 5. Display the 'Random value 2' & 'Random value 3' columns with location method and index location method\n",
    "print(df.loc[:, ['Random value 2', 'Random value 3']])\n",
    "\n",
    "print(df.iloc[:, [1, 2]])\n"
   ]
  }
 ],
 "metadata": {
  "kernelspec": {
   "display_name": "Python 3",
   "language": "python",
   "name": "python3"
  },
  "language_info": {
   "codemirror_mode": {
    "name": "ipython",
    "version": 3
   },
   "file_extension": ".py",
   "mimetype": "text/x-python",
   "name": "python",
   "nbconvert_exporter": "python",
   "pygments_lexer": "ipython3",
   "version": "3.8.3"
  }
 },
 "nbformat": 4,
 "nbformat_minor": 4
}
